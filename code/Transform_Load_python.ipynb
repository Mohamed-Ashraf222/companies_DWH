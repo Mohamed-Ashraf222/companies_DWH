{
 "cells": [
  {
   "cell_type": "code",
   "execution_count": 5,
   "metadata": {},
   "outputs": [],
   "source": [
    "from dotenv import load_dotenv\n",
    "import os\n",
    "\n",
    "load_dotenv('pwd.env')\n",
    "\n",
    "db_user = os.getenv('DB_USER')\n",
    "db_password = os.getenv('DB_PASSWORD')\n",
    "db_host = os.getenv(\"DB_HOST\")"
   ]
  },
  {
   "cell_type": "code",
   "execution_count": 6,
   "metadata": {},
   "outputs": [
    {
     "name": "stdout",
     "output_type": "stream",
     "text": [
      "connection was successful!\n"
     ]
    }
   ],
   "source": [
    "from sqlalchemy import create_engine, text \n",
    "\n",
    "username = db_user\n",
    "password = db_password\n",
    "host = db_host\n",
    "port = '5433'\n",
    "database = 'companies_DWH'\n",
    "\n",
    "\n",
    "connection_string = f\"postgresql+psycopg2://{username}:{password}@{host}:{port}/{database}\"\n",
    "engine = create_engine(connection_string)\n",
    "\n",
    "try:\n",
    "    with engine.connect() as connection:\n",
    "        print(\"connection was successful!\")\n",
    "except Exception as e:\n",
    "    print(\"connection failed:\", e)"
   ]
  },
  {
   "cell_type": "markdown",
   "metadata": {},
   "source": [
    "<h2>Merging tech_layoffs.csv files<h2>"
   ]
  },
  {
   "cell_type": "code",
   "execution_count": 7,
   "metadata": {},
   "outputs": [
    {
     "name": "stdout",
     "output_type": "stream",
     "text": [
      "      company_id         Company             Location_HQ Country  \\\n",
      "0              3       ShareChat               Bengaluru   India   \n",
      "1              4       InSightec                   Haifa  Israel   \n",
      "2              6  Enphase Energy  San Francisco Bay Area     USA   \n",
      "3              7           Udaan               Bengaluru   India   \n",
      "4             14          Cruise  San Francisco Bay Area     USA   \n",
      "...          ...             ...                     ...     ...   \n",
      "1834        5251    Moxion Power                Richmond     USA   \n",
      "1835        4983          Perion                Tel Aviv  Israel   \n",
      "1836        4740          Planet           San Francisco     USA   \n",
      "1837        3570        RealPage                  Dallas     USA   \n",
      "1838        5149       Priceline                 Norwalk     USA   \n",
      "\n",
      "          Continent  Laid_Off Date_layoffs  Percentage  \\\n",
      "0              Asia     200.0   2023-12-20          15   \n",
      "1              Asia     100.0   2023-12-19          20   \n",
      "2     North America     350.0   2023-12-18          10   \n",
      "3              Asia     100.0   2023-12-18          10   \n",
      "4     North America     900.0   2023-12-14          24   \n",
      "...             ...       ...          ...         ...   \n",
      "1834  North America     101.0   2024-06-26           0   \n",
      "1835           Asia      35.0   2024-06-26           5   \n",
      "1836  North America     180.0   2024-06-26          17   \n",
      "1837  North America      20.0   2024-06-27           4   \n",
      "1838  North America     103.0   2024-06-28          17   \n",
      "\n",
      "      Company_Size_before_Layoffs  Company_Size_after_layoffs        Industry  \\\n",
      "0                            1333                        1133        Consumer   \n",
      "1                             500                         400      Healthcare   \n",
      "2                            3500                        3150          Energy   \n",
      "3                            1000                         900          Retail   \n",
      "4                            3750                        2850  Transportation   \n",
      "...                           ...                         ...             ...   \n",
      "1834                            0                           0          Energy   \n",
      "1835                          700                         665       Marketing   \n",
      "1836                         1059                         879       Aerospace   \n",
      "1837                          500                         480     Real Estate   \n",
      "1838                          606                         503          Travel   \n",
      "\n",
      "      Money_Raised_in_$_mil  Year   latitude   longitude  \n",
      "0                    1700.0  2023  12.971940   77.593690  \n",
      "1                     733.0  2023  32.818410   34.988500  \n",
      "2                     116.0  2023  37.548270 -121.988570  \n",
      "3                       NaN  2023  12.971940   77.593690  \n",
      "4                   15000.0  2023  37.774930 -122.419420  \n",
      "...                     ...   ...        ...         ...  \n",
      "1834                  124.0  2024  37.538509  -77.434280  \n",
      "1835                   76.0  2024  32.085300   34.781806  \n",
      "1836                  574.0  2024  37.779259 -122.419329  \n",
      "1837                  105.0  2024  32.776272  -96.796856  \n",
      "1838                   77.0  2024  41.117597  -73.407897  \n",
      "\n",
      "[3511 rows x 15 columns]\n"
     ]
    }
   ],
   "source": [
    "import pandas as pd \n",
    "\n",
    "cleaned_tech_layoffs_q1 = pd.read_csv(r'D:\\DEPI Data Engineering\\personalWork\\Company layoffs\\cleaned_tech_layoffs_q1.csv', sep = ';')\n",
    "cleaned_tech_layoffs_q2 = pd.read_csv(r'D:\\DEPI Data Engineering\\personalWork\\Company layoffs\\cleaned_tech_layoffs_q2.csv', sep = ',')\n",
    "\n",
    "cleaned_tech_layoffs = pd.concat([cleaned_tech_layoffs_q1, cleaned_tech_layoffs_q2], axis = 0)\n",
    "cleaned_tech_layoffs.to_csv('cleaned_tech_layoffs 2020 - 2024.csv', index = False)\n",
    "\n",
    "print(cleaned_tech_layoffs)"
   ]
  },
  {
   "cell_type": "code",
   "execution_count": 8,
   "metadata": {},
   "outputs": [
    {
     "data": {
      "text/plain": [
       "511"
      ]
     },
     "execution_count": 8,
     "metadata": {},
     "output_type": "execute_result"
    }
   ],
   "source": [
    "cleaned_tech_layoffs.to_sql('layoffs_companies', engine, if_exists='replace', index = False, schema='public')"
   ]
  },
  {
   "cell_type": "markdown",
   "metadata": {},
   "source": [
    "<h2>conditional split<h2>"
   ]
  },
  {
   "cell_type": "code",
   "execution_count": 9,
   "metadata": {},
   "outputs": [],
   "source": [
    "import pandas as pd\n",
    "\n",
    "cleaned_companies_sorted = pd.read_csv(r'D:\\DEPI Data Engineering\\personalWork\\Company layoffs\\cleaned_companies_sorted.csv')\n",
    "\n",
    "condition = cleaned_companies_sorted['total employee estimate'] >= 200000\n",
    "\n",
    "large_size_companies = cleaned_companies_sorted[condition]\n",
    "small_mid_size_companies = cleaned_companies_sorted[~condition]\n"
   ]
  },
  {
   "cell_type": "code",
   "execution_count": 10,
   "metadata": {},
   "outputs": [
    {
     "data": {
      "text/plain": [
       "846"
      ]
     },
     "execution_count": 10,
     "metadata": {},
     "output_type": "execute_result"
    }
   ],
   "source": [
    "large_size_companies.to_sql('large size companies', engine, if_exists = 'replace', index = False, schema = 'public')\n",
    "\n",
    "small_mid_size_companies.to_sql('small & mid size companies', engine, if_exists = 'replace', index = False, schema = 'public')"
   ]
  },
  {
   "cell_type": "code",
   "execution_count": 11,
   "metadata": {},
   "outputs": [
    {
     "name": "stdout",
     "output_type": "stream",
     "text": [
      "Data successfully split and stored in the database.\n"
     ]
    }
   ],
   "source": [
    "try:\n",
    "    cleaned_companies_sorted = pd.read_csv(r'D:\\DEPI Data Engineering\\personalWork\\Company layoffs\\cleaned_companies_sorted.csv')\n",
    "\n",
    "    condition = cleaned_companies_sorted['total employee estimate'] >= 20000\n",
    "\n",
    "    large_size_companies = cleaned_companies_sorted[condition]\n",
    "    small_mid_size_companies = cleaned_companies_sorted[~condition]\n",
    "\n",
    "    large_size_companies.to_sql('large_size_companies', engine, if_exists='replace', index=False, schema='public')\n",
    "    small_mid_size_companies.to_sql('small_mid_size_companies', engine, if_exists='replace', index=False, schema='public')\n",
    "\n",
    "    print(\"Data successfully split and stored in the database.\")\n",
    "except Exception as e:\n",
    "    print(f\"An error occurred: {e}\")"
   ]
  }
 ],
 "metadata": {
  "kernelspec": {
   "display_name": "layoffs",
   "language": "python",
   "name": "python3"
  },
  "language_info": {
   "codemirror_mode": {
    "name": "ipython",
    "version": 3
   },
   "file_extension": ".py",
   "mimetype": "text/x-python",
   "name": "python",
   "nbconvert_exporter": "python",
   "pygments_lexer": "ipython3",
   "version": "3.11.4"
  }
 },
 "nbformat": 4,
 "nbformat_minor": 2
}
