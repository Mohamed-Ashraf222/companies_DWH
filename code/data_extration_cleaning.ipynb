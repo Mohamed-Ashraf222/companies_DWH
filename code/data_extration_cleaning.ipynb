{
 "cells": [
  {
   "cell_type": "code",
   "execution_count": 1,
   "metadata": {},
   "outputs": [
    {
     "name": "stdout",
     "output_type": "stream",
     "text": [
      "Requirement already satisfied: SQLAlchemy in d:\\depi data engineering\\layoffs\\lib\\site-packages (2.0.34)\n",
      "Requirement already satisfied: typing-extensions>=4.6.0 in d:\\depi data engineering\\layoffs\\lib\\site-packages (from SQLAlchemy) (4.12.2)\n",
      "Requirement already satisfied: greenlet!=0.4.17 in d:\\depi data engineering\\layoffs\\lib\\site-packages (from SQLAlchemy) (3.0.3)\n",
      "Note: you may need to restart the kernel to use updated packages.\n"
     ]
    },
    {
     "name": "stderr",
     "output_type": "stream",
     "text": [
      "\n",
      "[notice] A new release of pip is available: 23.1.2 -> 24.2\n",
      "[notice] To update, run: python.exe -m pip install --upgrade pip\n"
     ]
    }
   ],
   "source": [
    "%pip install SQLAlchemy"
   ]
  },
  {
   "cell_type": "code",
   "execution_count": 2,
   "metadata": {},
   "outputs": [
    {
     "name": "stdout",
     "output_type": "stream",
     "text": [
      "Requirement already satisfied: pandas in d:\\depi data engineering\\layoffs\\lib\\site-packages (2.2.2)\n",
      "Requirement already satisfied: numpy>=1.23.2 in d:\\depi data engineering\\layoffs\\lib\\site-packages (from pandas) (2.1.1)\n",
      "Requirement already satisfied: python-dateutil>=2.8.2 in d:\\depi data engineering\\layoffs\\lib\\site-packages (from pandas) (2.9.0.post0)\n",
      "Requirement already satisfied: pytz>=2020.1 in d:\\depi data engineering\\layoffs\\lib\\site-packages (from pandas) (2024.1)\n",
      "Requirement already satisfied: tzdata>=2022.7 in d:\\depi data engineering\\layoffs\\lib\\site-packages (from pandas) (2024.1)\n",
      "Requirement already satisfied: six>=1.5 in d:\\depi data engineering\\layoffs\\lib\\site-packages (from python-dateutil>=2.8.2->pandas) (1.16.0)\n",
      "Note: you may need to restart the kernel to use updated packages.\n"
     ]
    },
    {
     "name": "stderr",
     "output_type": "stream",
     "text": [
      "\n",
      "[notice] A new release of pip is available: 23.1.2 -> 24.2\n",
      "[notice] To update, run: python.exe -m pip install --upgrade pip\n"
     ]
    }
   ],
   "source": [
    "%pip install pandas"
   ]
  },
  {
   "cell_type": "code",
   "execution_count": 3,
   "metadata": {},
   "outputs": [
    {
     "name": "stdout",
     "output_type": "stream",
     "text": [
      "Requirement already satisfied: psycopg2-binary in d:\\depi data engineering\\layoffs\\lib\\site-packages (2.9.9)\n",
      "Note: you may need to restart the kernel to use updated packages.\n"
     ]
    },
    {
     "name": "stderr",
     "output_type": "stream",
     "text": [
      "\n",
      "[notice] A new release of pip is available: 23.1.2 -> 24.2\n",
      "[notice] To update, run: python.exe -m pip install --upgrade pip\n"
     ]
    }
   ],
   "source": [
    "%pip install psycopg2-binary"
   ]
  },
  {
   "cell_type": "code",
   "execution_count": 4,
   "metadata": {},
   "outputs": [],
   "source": [
    "from dotenv import load_dotenv\n",
    "import os\n",
    "\n",
    "load_dotenv('pwd.env')\n",
    "\n",
    "db_user = os.getenv('DB_USER')\n",
    "db_password = os.getenv('DB_PASSWORD')\n",
    "db_host = os.getenv(\"DB_HOST\")"
   ]
  },
  {
   "cell_type": "code",
   "execution_count": 5,
   "metadata": {},
   "outputs": [
    {
     "name": "stdout",
     "output_type": "stream",
     "text": [
      "connection was successful!\n"
     ]
    }
   ],
   "source": [
    "from sqlalchemy import create_engine, text \n",
    "\n",
    "username = db_user\n",
    "password = db_password\n",
    "host = db_host\n",
    "port = '5433'\n",
    "database = 'postgres'\n",
    "\n",
    "\n",
    "connection_string = f\"postgresql+psycopg2://{username}:{password}@{host}:{port}/{database}\"\n",
    "engine = create_engine(connection_string)\n",
    "\n",
    "try:\n",
    "    with engine.connect() as connection:\n",
    "        print(\"connection was successful!\")\n",
    "except Exception as e:\n",
    "    print(\"connection failed:\", e)"
   ]
  },
  {
   "cell_type": "code",
   "execution_count": 6,
   "metadata": {},
   "outputs": [
    {
     "name": "stdout",
     "output_type": "stream",
     "text": [
      "        id                       name         domain  year founded                             industry size range                                locality         country                                    linkedin url  current employee estimate  total employee estimate\n",
      "0  5872184                        ibm        ibm.com        1911.0  information technology and services     10001+       new york, new york, united states   united states                        linkedin.com/company/ibm                     274047                   716906\n",
      "1  4425416  tata consultancy services        tcs.com        1968.0  information technology and services     10001+              bombay, maharashtra, india           india  linkedin.com/company/tata-consultancy-services                     190771                   341369\n",
      "2    21074                  accenture  accenture.com        1989.0  information technology and services     10001+                 dublin, dublin, ireland         ireland                  linkedin.com/company/accenture                     190689                   455768\n",
      "3  2309813                    us army     goarmy.com        1800.0                             military     10001+     alexandria, virginia, united states   united states                    linkedin.com/company/us-army                     162163                   445958\n",
      "4  1558607                         ey         ey.com        1989.0                           accounting     10001+  london, greater london, united kingdom  united kingdom              linkedin.com/company/ernstandyoung                     158363                   428960\n"
     ]
    }
   ],
   "source": [
    "import pandas as pd \n",
    "\n",
    "pd.set_option('display.expand_frame_repr', False)\n",
    "\n",
    "companies_sorted_path = r'D:\\DEPI Data Engineering\\personalWork\\Company layoffs\\archive\\companies_sorted.csv'\n",
    "\n",
    "companies_sorted_data = pd.read_csv(companies_sorted_path)\n",
    "\n",
    "print(companies_sorted_data.head())"
   ]
  },
  {
   "cell_type": "code",
   "execution_count": 7,
   "metadata": {},
   "outputs": [
    {
     "data": {
      "text/plain": [
       "<bound method NDFrame.describe of               id                              name               domain  year founded                             industry size range                                         locality         country                                       linkedin url  current employee estimate  total employee estimate\n",
       "0        5872184                               ibm              ibm.com        1911.0  information technology and services     10001+                new york, new york, united states   united states                           linkedin.com/company/ibm                     274047                   716906\n",
       "1        4425416         tata consultancy services              tcs.com        1968.0  information technology and services     10001+                       bombay, maharashtra, india           india     linkedin.com/company/tata-consultancy-services                     190771                   341369\n",
       "2          21074                         accenture        accenture.com        1989.0  information technology and services     10001+                          dublin, dublin, ireland         ireland                     linkedin.com/company/accenture                     190689                   455768\n",
       "3        2309813                           us army           goarmy.com        1800.0                             military     10001+              alexandria, virginia, united states   united states                       linkedin.com/company/us-army                     162163                   445958\n",
       "4        1558607                                ey               ey.com        1989.0                           accounting     10001+           london, greater london, united kingdom  united kingdom                 linkedin.com/company/ernstandyoung                     158363                   428960\n",
       "...          ...                               ...                  ...           ...                                  ...        ...                                              ...             ...                                                ...                        ...                      ...\n",
       "1048570  2031369                        parsonstko       parsonstko.com        2013.0  information technology and services     Nov-50  washington, district of columbia, united states   united states                    linkedin.com/company/parsonstko                          7                        9\n",
       "1048571  1482565       black onyx corporation, llc          blkonx1.com           NaN                   financial services     Nov-50                 portage, michigan, united states   united states    linkedin.com/company/black-onyx-corporation-llc                          7                        9\n",
       "1048572  6436490  carol king landscape maintenance  carolkingscapes.com        1960.0                  facilities services     Nov-50                  orlando, florida, united states   united states  linkedin.com/company/carol-king-landscape-main...                          7                       11\n",
       "1048573  5751781  howell carnegie district library    howelllibrary.org        1906.0                            libraries     Nov-50                  howell, michigan, united states   united states  linkedin.com/company/howell-carnegie-district-...                          7                       13\n",
       "1048574  5751767                           pricefy       pricefy.com.br        2017.0                    computer software     Nov-50                                              NaN             NaN                       linkedin.com/company/pricefy                          7                        9\n",
       "\n",
       "[1048575 rows x 11 columns]>"
      ]
     },
     "execution_count": 7,
     "metadata": {},
     "output_type": "execute_result"
    }
   ],
   "source": [
    "companies_sorted_data.describe"
   ]
  },
  {
   "cell_type": "code",
   "execution_count": 8,
   "metadata": {},
   "outputs": [],
   "source": [
    "companies_sorted_data = companies_sorted_data.drop(['size range', 'linkedin url'], axis = 1)\n",
    "\n",
    "\n",
    "companies_sorted_data = companies_sorted_data.dropna()"
   ]
  },
  {
   "cell_type": "code",
   "execution_count": 9,
   "metadata": {},
   "outputs": [
    {
     "data": {
      "text/html": [
       "<div>\n",
       "<style scoped>\n",
       "    .dataframe tbody tr th:only-of-type {\n",
       "        vertical-align: middle;\n",
       "    }\n",
       "\n",
       "    .dataframe tbody tr th {\n",
       "        vertical-align: top;\n",
       "    }\n",
       "\n",
       "    .dataframe thead th {\n",
       "        text-align: right;\n",
       "    }\n",
       "</style>\n",
       "<table border=\"1\" class=\"dataframe\">\n",
       "  <thead>\n",
       "    <tr style=\"text-align: right;\">\n",
       "      <th></th>\n",
       "      <th>id</th>\n",
       "      <th>name</th>\n",
       "      <th>domain</th>\n",
       "      <th>year founded</th>\n",
       "      <th>industry</th>\n",
       "      <th>locality</th>\n",
       "      <th>country</th>\n",
       "      <th>current employee estimate</th>\n",
       "      <th>total employee estimate</th>\n",
       "    </tr>\n",
       "  </thead>\n",
       "  <tbody>\n",
       "    <tr>\n",
       "      <th>0</th>\n",
       "      <td>5872184</td>\n",
       "      <td>ibm</td>\n",
       "      <td>ibm.com</td>\n",
       "      <td>1911</td>\n",
       "      <td>information technology and services</td>\n",
       "      <td>new york, new york, united states</td>\n",
       "      <td>united states</td>\n",
       "      <td>274047</td>\n",
       "      <td>716906</td>\n",
       "    </tr>\n",
       "    <tr>\n",
       "      <th>1</th>\n",
       "      <td>4425416</td>\n",
       "      <td>tata consultancy services</td>\n",
       "      <td>tcs.com</td>\n",
       "      <td>1968</td>\n",
       "      <td>information technology and services</td>\n",
       "      <td>bombay, maharashtra, india</td>\n",
       "      <td>india</td>\n",
       "      <td>190771</td>\n",
       "      <td>341369</td>\n",
       "    </tr>\n",
       "    <tr>\n",
       "      <th>2</th>\n",
       "      <td>21074</td>\n",
       "      <td>accenture</td>\n",
       "      <td>accenture.com</td>\n",
       "      <td>1989</td>\n",
       "      <td>information technology and services</td>\n",
       "      <td>dublin, dublin, ireland</td>\n",
       "      <td>ireland</td>\n",
       "      <td>190689</td>\n",
       "      <td>455768</td>\n",
       "    </tr>\n",
       "    <tr>\n",
       "      <th>3</th>\n",
       "      <td>2309813</td>\n",
       "      <td>us army</td>\n",
       "      <td>goarmy.com</td>\n",
       "      <td>1800</td>\n",
       "      <td>military</td>\n",
       "      <td>alexandria, virginia, united states</td>\n",
       "      <td>united states</td>\n",
       "      <td>162163</td>\n",
       "      <td>445958</td>\n",
       "    </tr>\n",
       "    <tr>\n",
       "      <th>4</th>\n",
       "      <td>1558607</td>\n",
       "      <td>ey</td>\n",
       "      <td>ey.com</td>\n",
       "      <td>1989</td>\n",
       "      <td>accounting</td>\n",
       "      <td>london, greater london, united kingdom</td>\n",
       "      <td>united kingdom</td>\n",
       "      <td>158363</td>\n",
       "      <td>428960</td>\n",
       "    </tr>\n",
       "    <tr>\n",
       "      <th>...</th>\n",
       "      <td>...</td>\n",
       "      <td>...</td>\n",
       "      <td>...</td>\n",
       "      <td>...</td>\n",
       "      <td>...</td>\n",
       "      <td>...</td>\n",
       "      <td>...</td>\n",
       "      <td>...</td>\n",
       "      <td>...</td>\n",
       "    </tr>\n",
       "    <tr>\n",
       "      <th>1048567</th>\n",
       "      <td>4352952</td>\n",
       "      <td>ax3 fulltech</td>\n",
       "      <td>ax3group.com</td>\n",
       "      <td>2009</td>\n",
       "      <td>information technology and services</td>\n",
       "      <td>madrid, madrid, spain</td>\n",
       "      <td>spain</td>\n",
       "      <td>7</td>\n",
       "      <td>13</td>\n",
       "    </tr>\n",
       "    <tr>\n",
       "      <th>1048568</th>\n",
       "      <td>4232207</td>\n",
       "      <td>valeo design &amp; marketing</td>\n",
       "      <td>valeomarketing.com</td>\n",
       "      <td>2005</td>\n",
       "      <td>marketing and advertising</td>\n",
       "      <td>memphis, tennessee, united states</td>\n",
       "      <td>united states</td>\n",
       "      <td>7</td>\n",
       "      <td>13</td>\n",
       "    </tr>\n",
       "    <tr>\n",
       "      <th>1048570</th>\n",
       "      <td>2031369</td>\n",
       "      <td>parsonstko</td>\n",
       "      <td>parsonstko.com</td>\n",
       "      <td>2013</td>\n",
       "      <td>information technology and services</td>\n",
       "      <td>washington, district of columbia, united states</td>\n",
       "      <td>united states</td>\n",
       "      <td>7</td>\n",
       "      <td>9</td>\n",
       "    </tr>\n",
       "    <tr>\n",
       "      <th>1048572</th>\n",
       "      <td>6436490</td>\n",
       "      <td>carol king landscape maintenance</td>\n",
       "      <td>carolkingscapes.com</td>\n",
       "      <td>1960</td>\n",
       "      <td>facilities services</td>\n",
       "      <td>orlando, florida, united states</td>\n",
       "      <td>united states</td>\n",
       "      <td>7</td>\n",
       "      <td>11</td>\n",
       "    </tr>\n",
       "    <tr>\n",
       "      <th>1048573</th>\n",
       "      <td>5751781</td>\n",
       "      <td>howell carnegie district library</td>\n",
       "      <td>howelllibrary.org</td>\n",
       "      <td>1906</td>\n",
       "      <td>libraries</td>\n",
       "      <td>howell, michigan, united states</td>\n",
       "      <td>united states</td>\n",
       "      <td>7</td>\n",
       "      <td>13</td>\n",
       "    </tr>\n",
       "  </tbody>\n",
       "</table>\n",
       "<p>591870 rows × 9 columns</p>\n",
       "</div>"
      ],
      "text/plain": [
       "              id                              name               domain  year founded                             industry                                         locality         country  current employee estimate  total employee estimate\n",
       "0        5872184                               ibm              ibm.com          1911  information technology and services                new york, new york, united states   united states                     274047                   716906\n",
       "1        4425416         tata consultancy services              tcs.com          1968  information technology and services                       bombay, maharashtra, india           india                     190771                   341369\n",
       "2          21074                         accenture        accenture.com          1989  information technology and services                          dublin, dublin, ireland         ireland                     190689                   455768\n",
       "3        2309813                           us army           goarmy.com          1800                             military              alexandria, virginia, united states   united states                     162163                   445958\n",
       "4        1558607                                ey               ey.com          1989                           accounting           london, greater london, united kingdom  united kingdom                     158363                   428960\n",
       "...          ...                               ...                  ...           ...                                  ...                                              ...             ...                        ...                      ...\n",
       "1048567  4352952                      ax3 fulltech         ax3group.com          2009  information technology and services                            madrid, madrid, spain           spain                          7                       13\n",
       "1048568  4232207          valeo design & marketing   valeomarketing.com          2005            marketing and advertising                memphis, tennessee, united states   united states                          7                       13\n",
       "1048570  2031369                        parsonstko       parsonstko.com          2013  information technology and services  washington, district of columbia, united states   united states                          7                        9\n",
       "1048572  6436490  carol king landscape maintenance  carolkingscapes.com          1960                  facilities services                  orlando, florida, united states   united states                          7                       11\n",
       "1048573  5751781  howell carnegie district library    howelllibrary.org          1906                            libraries                  howell, michigan, united states   united states                          7                       13\n",
       "\n",
       "[591870 rows x 9 columns]"
      ]
     },
     "execution_count": 9,
     "metadata": {},
     "output_type": "execute_result"
    }
   ],
   "source": [
    "companies_sorted_data['year founded'] = companies_sorted_data['year founded'].astype(int)\n",
    "companies_sorted_data"
   ]
  },
  {
   "cell_type": "code",
   "execution_count": 10,
   "metadata": {},
   "outputs": [
    {
     "data": {
      "text/html": [
       "<div>\n",
       "<style scoped>\n",
       "    .dataframe tbody tr th:only-of-type {\n",
       "        vertical-align: middle;\n",
       "    }\n",
       "\n",
       "    .dataframe tbody tr th {\n",
       "        vertical-align: top;\n",
       "    }\n",
       "\n",
       "    .dataframe thead th {\n",
       "        text-align: right;\n",
       "    }\n",
       "</style>\n",
       "<table border=\"1\" class=\"dataframe\">\n",
       "  <thead>\n",
       "    <tr style=\"text-align: right;\">\n",
       "      <th></th>\n",
       "      <th>id</th>\n",
       "      <th>name</th>\n",
       "      <th>domain</th>\n",
       "      <th>year founded</th>\n",
       "      <th>industry</th>\n",
       "      <th>locality</th>\n",
       "      <th>country</th>\n",
       "      <th>current employee estimate</th>\n",
       "      <th>total employee estimate</th>\n",
       "    </tr>\n",
       "  </thead>\n",
       "  <tbody>\n",
       "    <tr>\n",
       "      <th>0</th>\n",
       "      <td>5872184</td>\n",
       "      <td>ibm</td>\n",
       "      <td>ibm.com</td>\n",
       "      <td>1911</td>\n",
       "      <td>information technology and services</td>\n",
       "      <td>new york, new york, united states</td>\n",
       "      <td>united states</td>\n",
       "      <td>274047</td>\n",
       "      <td>716906</td>\n",
       "    </tr>\n",
       "    <tr>\n",
       "      <th>1</th>\n",
       "      <td>4425416</td>\n",
       "      <td>tata consultancy services</td>\n",
       "      <td>tcs.com</td>\n",
       "      <td>1968</td>\n",
       "      <td>information technology and services</td>\n",
       "      <td>bombay, maharashtra, india</td>\n",
       "      <td>india</td>\n",
       "      <td>190771</td>\n",
       "      <td>341369</td>\n",
       "    </tr>\n",
       "    <tr>\n",
       "      <th>2</th>\n",
       "      <td>21074</td>\n",
       "      <td>accenture</td>\n",
       "      <td>accenture.com</td>\n",
       "      <td>1989</td>\n",
       "      <td>information technology and services</td>\n",
       "      <td>dublin, dublin, ireland</td>\n",
       "      <td>ireland</td>\n",
       "      <td>190689</td>\n",
       "      <td>455768</td>\n",
       "    </tr>\n",
       "    <tr>\n",
       "      <th>3</th>\n",
       "      <td>2309813</td>\n",
       "      <td>us army</td>\n",
       "      <td>goarmy.com</td>\n",
       "      <td>1800</td>\n",
       "      <td>military</td>\n",
       "      <td>alexandria, virginia, united states</td>\n",
       "      <td>united states</td>\n",
       "      <td>162163</td>\n",
       "      <td>445958</td>\n",
       "    </tr>\n",
       "    <tr>\n",
       "      <th>4</th>\n",
       "      <td>1558607</td>\n",
       "      <td>ey</td>\n",
       "      <td>ey.com</td>\n",
       "      <td>1989</td>\n",
       "      <td>accounting</td>\n",
       "      <td>london, greater london, united kingdom</td>\n",
       "      <td>united kingdom</td>\n",
       "      <td>158363</td>\n",
       "      <td>428960</td>\n",
       "    </tr>\n",
       "    <tr>\n",
       "      <th>...</th>\n",
       "      <td>...</td>\n",
       "      <td>...</td>\n",
       "      <td>...</td>\n",
       "      <td>...</td>\n",
       "      <td>...</td>\n",
       "      <td>...</td>\n",
       "      <td>...</td>\n",
       "      <td>...</td>\n",
       "      <td>...</td>\n",
       "    </tr>\n",
       "    <tr>\n",
       "      <th>1048567</th>\n",
       "      <td>4352952</td>\n",
       "      <td>ax3 fulltech</td>\n",
       "      <td>ax3group.com</td>\n",
       "      <td>2009</td>\n",
       "      <td>information technology and services</td>\n",
       "      <td>madrid, madrid, spain</td>\n",
       "      <td>spain</td>\n",
       "      <td>7</td>\n",
       "      <td>13</td>\n",
       "    </tr>\n",
       "    <tr>\n",
       "      <th>1048568</th>\n",
       "      <td>4232207</td>\n",
       "      <td>valeo design &amp; marketing</td>\n",
       "      <td>valeomarketing.com</td>\n",
       "      <td>2005</td>\n",
       "      <td>marketing and advertising</td>\n",
       "      <td>memphis, tennessee, united states</td>\n",
       "      <td>united states</td>\n",
       "      <td>7</td>\n",
       "      <td>13</td>\n",
       "    </tr>\n",
       "    <tr>\n",
       "      <th>1048570</th>\n",
       "      <td>2031369</td>\n",
       "      <td>parsonstko</td>\n",
       "      <td>parsonstko.com</td>\n",
       "      <td>2013</td>\n",
       "      <td>information technology and services</td>\n",
       "      <td>washington, district of columbia, united states</td>\n",
       "      <td>united states</td>\n",
       "      <td>7</td>\n",
       "      <td>9</td>\n",
       "    </tr>\n",
       "    <tr>\n",
       "      <th>1048572</th>\n",
       "      <td>6436490</td>\n",
       "      <td>carol king landscape maintenance</td>\n",
       "      <td>carolkingscapes.com</td>\n",
       "      <td>1960</td>\n",
       "      <td>facilities services</td>\n",
       "      <td>orlando, florida, united states</td>\n",
       "      <td>united states</td>\n",
       "      <td>7</td>\n",
       "      <td>11</td>\n",
       "    </tr>\n",
       "    <tr>\n",
       "      <th>1048573</th>\n",
       "      <td>5751781</td>\n",
       "      <td>howell carnegie district library</td>\n",
       "      <td>howelllibrary.org</td>\n",
       "      <td>1906</td>\n",
       "      <td>libraries</td>\n",
       "      <td>howell, michigan, united states</td>\n",
       "      <td>united states</td>\n",
       "      <td>7</td>\n",
       "      <td>13</td>\n",
       "    </tr>\n",
       "  </tbody>\n",
       "</table>\n",
       "<p>591870 rows × 9 columns</p>\n",
       "</div>"
      ],
      "text/plain": [
       "              id                              name               domain  year founded                             industry                                         locality         country  current employee estimate  total employee estimate\n",
       "0        5872184                               ibm              ibm.com          1911  information technology and services                new york, new york, united states   united states                     274047                   716906\n",
       "1        4425416         tata consultancy services              tcs.com          1968  information technology and services                       bombay, maharashtra, india           india                     190771                   341369\n",
       "2          21074                         accenture        accenture.com          1989  information technology and services                          dublin, dublin, ireland         ireland                     190689                   455768\n",
       "3        2309813                           us army           goarmy.com          1800                             military              alexandria, virginia, united states   united states                     162163                   445958\n",
       "4        1558607                                ey               ey.com          1989                           accounting           london, greater london, united kingdom  united kingdom                     158363                   428960\n",
       "...          ...                               ...                  ...           ...                                  ...                                              ...             ...                        ...                      ...\n",
       "1048567  4352952                      ax3 fulltech         ax3group.com          2009  information technology and services                            madrid, madrid, spain           spain                          7                       13\n",
       "1048568  4232207          valeo design & marketing   valeomarketing.com          2005            marketing and advertising                memphis, tennessee, united states   united states                          7                       13\n",
       "1048570  2031369                        parsonstko       parsonstko.com          2013  information technology and services  washington, district of columbia, united states   united states                          7                        9\n",
       "1048572  6436490  carol king landscape maintenance  carolkingscapes.com          1960                  facilities services                  orlando, florida, united states   united states                          7                       11\n",
       "1048573  5751781  howell carnegie district library    howelllibrary.org          1906                            libraries                  howell, michigan, united states   united states                          7                       13\n",
       "\n",
       "[591870 rows x 9 columns]"
      ]
     },
     "execution_count": 10,
     "metadata": {},
     "output_type": "execute_result"
    }
   ],
   "source": [
    "companies_sorted_data"
   ]
  },
  {
   "cell_type": "code",
   "execution_count": 11,
   "metadata": {},
   "outputs": [],
   "source": [
    "companies_sorted_data.to_csv('cleaned_companies_sorted.csv', index = False, sep = \",\", encoding = 'utf-8', mode = 'w', header = True )"
   ]
  },
  {
   "cell_type": "code",
   "execution_count": 12,
   "metadata": {},
   "outputs": [
    {
     "name": "stdout",
     "output_type": "stream",
     "text": [
      "connection was successful!\n"
     ]
    }
   ],
   "source": [
    "from sqlalchemy import create_engine\n",
    "\n",
    "username = db_user\n",
    "password = db_password\n",
    "host = db_host\n",
    "port = '5433'\n",
    "database = 'companies_data'\n",
    "\n",
    "\n",
    "connection_string = f\"postgresql+psycopg2://{username}:{password}@{host}:{port}/{database}\"\n",
    "engine = create_engine(connection_string)\n",
    "\n",
    "try:\n",
    "    with engine.connect() as connection:\n",
    "        print(\"connection was successful!\")\n",
    "except Exception as e:\n",
    "    print(\"connection failed:\", e)"
   ]
  },
  {
   "cell_type": "code",
   "execution_count": 13,
   "metadata": {},
   "outputs": [
    {
     "data": {
      "text/plain": [
       "870"
      ]
     },
     "execution_count": 13,
     "metadata": {},
     "output_type": "execute_result"
    }
   ],
   "source": [
    "import pandas as pd\n",
    "\n",
    "cleaned_compaines_data = pd.read_csv(r'D:\\DEPI Data Engineering\\personalWork\\Company layoffs\\cleaned_companies_sorted.csv')\n",
    "\n",
    "cleaned_compaines_data.to_sql('cleaned_companies_data', engine, if_exists='append', index = False, schema='companies')"
   ]
  },
  {
   "cell_type": "markdown",
   "metadata": {},
   "source": [
    "<h1>here is the end of the first sheet ----> companies_sorted.csv<h1"
   ]
  },
  {
   "cell_type": "markdown",
   "metadata": {},
   "source": [
    "<h1>Employee Sample Data.csv<h1>"
   ]
  },
  {
   "cell_type": "code",
   "execution_count": 14,
   "metadata": {},
   "outputs": [
    {
     "name": "stdout",
     "output_type": "stream",
     "text": [
      "Note: you may need to restart the kernel to use updated packages.\n"
     ]
    },
    {
     "name": "stderr",
     "output_type": "stream",
     "text": [
      "\n",
      "[notice] A new release of pip is available: 23.1.2 -> 24.2\n",
      "[notice] To update, run: python.exe -m pip install --upgrade pip\n"
     ]
    },
    {
     "name": "stdout",
     "output_type": "stream",
     "text": [
      "Requirement already satisfied: numpy in d:\\depi data engineering\\layoffs\\lib\\site-packages (2.1.1)\n"
     ]
    }
   ],
   "source": [
    "%pip install numpy"
   ]
  },
  {
   "cell_type": "code",
   "execution_count": 15,
   "metadata": {},
   "outputs": [
    {
     "name": "stdout",
     "output_type": "stream",
     "text": [
      "       EEID        Full Name                 Job Title  Department           Business Unit  Gender  Ethnicity  Age   Hire Date Annual Salary Bonus %        Country       City   Exit Date\n",
      "0    E02387      Emily Davis                Sr. Manger          IT  Research & Development  Female      Black   55    4/8/2016     $141,604     15%   United States    Seattle  10/16/2021\n",
      "1    E04105    Theodore Dinh       Technical Architect          IT           Manufacturing    Male      Asian   59  11/29/1997      $99,975      0%           China  Chongqing         NaN\n",
      "2    E02572     Luna Sanders                  Director     Finance     Speciality Products  Female  Caucasian   50  10/26/2006     $163,099     20%   United States    Chicago         NaN\n",
      "3    E02832  Penelope Jordan  Computer Systems Manager          IT           Manufacturing  Female  Caucasian   26   9/27/2019      $84,913      7%   United States    Chicago         NaN\n",
      "4    E01639        Austin Vo               Sr. Analyst     Finance           Manufacturing    Male      Asian   55  11/20/1995      $95,409      0%   United States    Phoenix         NaN\n",
      "..      ...              ...                       ...         ...                     ...     ...        ...  ...         ...           ...     ...            ...        ...         ...\n",
      "995  E03094     Wesley Young               Sr. Analyst   Marketing     Speciality Products    Male  Caucasian   33   9/18/2016      $98,427      0%   United States   Columbus         NaN\n",
      "996  E01909     Lillian Khan                   Analyst     Finance     Speciality Products  Female      Asian   44   5/31/2010      $47,387      0%           China    Chengdu    1/8/2018\n",
      "997  E04398      Oliver Yang                  Director   Marketing     Speciality Products    Male      Asian   31   6/10/2019     $176,710     15%   United States      Miami         NaN\n",
      "998  E02521      Lily Nguyen               Sr. Analyst     Finance     Speciality Products  Female      Asian   33   1/28/2012      $95,960      0%           China    Chengdu         NaN\n",
      "999  E03545      Sofia Cheng            Vice President  Accounting               Corporate  Female      Asian   63   7/26/2020     $216,195     31%   United States      Miami         NaN\n",
      "\n",
      "[1000 rows x 14 columns]\n"
     ]
    }
   ],
   "source": [
    "import pandas as pd \n",
    "import numpy as np\n",
    "pd.set_option('display.expand_frame_repr', False)\n",
    "\n",
    "employee_sample_data = pd.read_csv(r'D:\\DEPI Data Engineering\\personalWork\\Company layoffs\\EmployeeSampleData\\Employee Sample Data.csv', encoding_errors='ignore')\n",
    "\n",
    "print(employee_sample_data)"
   ]
  },
  {
   "cell_type": "code",
   "execution_count": 16,
   "metadata": {},
   "outputs": [],
   "source": [
    "employee_sample_data['Exit Date'] = employee_sample_data['Exit Date'].replace(np.nan, 'hired')\n"
   ]
  },
  {
   "cell_type": "code",
   "execution_count": 17,
   "metadata": {},
   "outputs": [],
   "source": [
    "employee_sample_data['Annual Salary'] = employee_sample_data['Annual Salary'].str.replace('$', '', regex = False).str.strip()\n",
    "\n",
    "employee_sample_data['Annual Salary'] = pd.to_numeric(employee_sample_data['Annual Salary'].str.replace(',', ''), errors='coerce')"
   ]
  },
  {
   "cell_type": "code",
   "execution_count": 18,
   "metadata": {},
   "outputs": [],
   "source": [
    "employee_sample_data['Bonus %'] = employee_sample_data['Bonus %'].str.replace('%', '', regex = False).str.strip()\n",
    "\n",
    "employee_sample_data['Bonus %'] = pd.to_numeric(employee_sample_data['Bonus %'])\n"
   ]
  },
  {
   "cell_type": "code",
   "execution_count": 19,
   "metadata": {},
   "outputs": [
    {
     "name": "stdout",
     "output_type": "stream",
     "text": [
      "       EEID        Full Name                 Job Title  Department           Business Unit  Gender  Ethnicity  Age   Hire Date  Annual Salary  Bonus %        Country       City   Exit Date\n",
      "0    E02387      Emily Davis                Sr. Manger          IT  Research & Development  Female      Black   55    4/8/2016         141604       15  United States    Seattle  10/16/2021\n",
      "1    E04105    Theodore Dinh       Technical Architect          IT           Manufacturing    Male      Asian   59  11/29/1997          99975        0          China  Chongqing       hired\n",
      "2    E02572     Luna Sanders                  Director     Finance     Speciality Products  Female  Caucasian   50  10/26/2006         163099       20  United States    Chicago       hired\n",
      "3    E02832  Penelope Jordan  Computer Systems Manager          IT           Manufacturing  Female  Caucasian   26   9/27/2019          84913        7  United States    Chicago       hired\n",
      "4    E01639        Austin Vo               Sr. Analyst     Finance           Manufacturing    Male      Asian   55  11/20/1995          95409        0  United States    Phoenix       hired\n",
      "..      ...              ...                       ...         ...                     ...     ...        ...  ...         ...            ...      ...            ...        ...         ...\n",
      "995  E03094     Wesley Young               Sr. Analyst   Marketing     Speciality Products    Male  Caucasian   33   9/18/2016          98427        0  United States   Columbus       hired\n",
      "996  E01909     Lillian Khan                   Analyst     Finance     Speciality Products  Female      Asian   44   5/31/2010          47387        0          China    Chengdu    1/8/2018\n",
      "997  E04398      Oliver Yang                  Director   Marketing     Speciality Products    Male      Asian   31   6/10/2019         176710       15  United States      Miami       hired\n",
      "998  E02521      Lily Nguyen               Sr. Analyst     Finance     Speciality Products  Female      Asian   33   1/28/2012          95960        0          China    Chengdu       hired\n",
      "999  E03545      Sofia Cheng            Vice President  Accounting               Corporate  Female      Asian   63   7/26/2020         216195       31  United States      Miami       hired\n",
      "\n",
      "[1000 rows x 14 columns]\n"
     ]
    }
   ],
   "source": [
    "print(employee_sample_data)"
   ]
  },
  {
   "cell_type": "code",
   "execution_count": 20,
   "metadata": {},
   "outputs": [
    {
     "data": {
      "text/plain": [
       "EEID             object\n",
       "Full Name        object\n",
       "Job Title        object\n",
       "Department       object\n",
       "Business Unit    object\n",
       "Gender           object\n",
       "Ethnicity        object\n",
       "Age               int64\n",
       "Hire Date        object\n",
       "Annual Salary     int64\n",
       "Bonus %           int64\n",
       "Country          object\n",
       "City             object\n",
       "Exit Date        object\n",
       "dtype: object"
      ]
     },
     "execution_count": 20,
     "metadata": {},
     "output_type": "execute_result"
    }
   ],
   "source": [
    "employee_sample_data.dtypes"
   ]
  },
  {
   "cell_type": "code",
   "execution_count": 21,
   "metadata": {},
   "outputs": [],
   "source": [
    "employee_sample_data.to_csv('cleaned_employee_data.csv', index = False, header = True, encoding = 'utf-8', sep = ',', mode = 'w')"
   ]
  },
  {
   "cell_type": "code",
   "execution_count": 22,
   "metadata": {},
   "outputs": [
    {
     "name": "stdout",
     "output_type": "stream",
     "text": [
      "connection was successful!\n"
     ]
    }
   ],
   "source": [
    "from sqlalchemy import create_engine\n",
    "\n",
    "username = db_user\n",
    "password = db_password\n",
    "port = '5433'\n",
    "host = db_host\n",
    "database = 'companies_data'\n",
    "\n",
    "connection_string = f\"postgresql+psycopg2://{username}:{password}@{host}:{port}/{database}\"\n",
    "engine = create_engine(connection_string)\n",
    "\n",
    "try:\n",
    "    with engine.connect() as connection:\n",
    "        print(\"connection was successful!\")\n",
    "except Exception as e:\n",
    "    print(\"connection failed:\", e)"
   ]
  },
  {
   "cell_type": "code",
   "execution_count": 23,
   "metadata": {},
   "outputs": [
    {
     "data": {
      "text/plain": [
       "1000"
      ]
     },
     "execution_count": 23,
     "metadata": {},
     "output_type": "execute_result"
    }
   ],
   "source": [
    "cleaned_employee_data = pd.read_csv(r'D:\\DEPI Data Engineering\\personalWork\\Company layoffs\\cleaned_employee_data.csv')\n",
    "\n",
    "cleaned_employee_data.to_sql('cleaned_employee_data', engine, if_exists = 'append', index = False, schema = 'companies')"
   ]
  },
  {
   "cell_type": "markdown",
   "metadata": {},
   "source": [
    "<h1>tech_layoffs_location.csv<h1>"
   ]
  },
  {
   "cell_type": "code",
   "execution_count": 24,
   "metadata": {},
   "outputs": [
    {
     "name": "stdout",
     "output_type": "stream",
     "text": [
      "    location_HQ                  Region       State      Country     latitude     longitude  Unnamed: 6  Unnamed: 7\n",
      "0      Adelaide                     NaN         NaN    Australia  -34,9281805   138,5999312         NaN         NaN\n",
      "1  Agoura Hills                     NaN  California          USA     34,14791  -118,7657042         NaN         NaN\n",
      "2     Ahmedabad                     NaN         NaN        India   23,0216238    72,5797068         NaN         NaN\n",
      "3       Alameda  San Francisco Bay Area  California          USA   37,6090291   -121,899142         NaN         NaN\n",
      "4     Amsterdam                     NaN         NaN  Netherlands   52,3730796     4,8924534         NaN         NaN\n"
     ]
    }
   ],
   "source": [
    "import pandas as pd\n",
    "import numpy as np\n",
    "\n",
    "pd.set_option('display.expand_frame_repr', False)\n",
    "\n",
    "tech_layoffs_location = pd.read_csv(r'D:\\DEPI Data Engineering\\personalWork\\Company layoffs\\layoffs 2020 - 2024\\tech_layoffs_location.csv', sep = ';')\n",
    "\n",
    "print(tech_layoffs_location.head())"
   ]
  },
  {
   "cell_type": "code",
   "execution_count": 25,
   "metadata": {},
   "outputs": [],
   "source": [
    "tech_layoffs_location = tech_layoffs_location.drop(['Region'], axis = 1)"
   ]
  },
  {
   "cell_type": "code",
   "execution_count": 26,
   "metadata": {},
   "outputs": [
    {
     "name": "stdout",
     "output_type": "stream",
     "text": [
      "      location_HQ       State      Country     latitude     longitude  Unnamed: 6  Unnamed: 7\n",
      "0        Adelaide         NaN    Australia  -34,9281805   138,5999312         NaN         NaN\n",
      "1    Agoura Hills  California          USA     34,14791  -118,7657042         NaN         NaN\n",
      "2       Ahmedabad         NaN        India   23,0216238    72,5797068         NaN         NaN\n",
      "3         Alameda  California          USA   37,6090291   -121,899142         NaN         NaN\n",
      "4       Amsterdam         NaN  Netherlands   52,3730796     4,8924534         NaN         NaN\n",
      "..            ...         ...          ...          ...           ...         ...         ...\n",
      "192    Wellington         NaN  New Zealand  -41,2887953   174,7772114         NaN         NaN\n",
      "193    Wilmington         NaN          USA   39,7459468    -75,546589         NaN         NaN\n",
      "194         Xi'an         NaN        China    34,261004   108,9423363         NaN         NaN\n",
      "195         Yavne         NaN       Israel   31,8768863    34,7382974         NaN         NaN\n",
      "196        Zurich         NaN  Switzerland   47,3744489     8,5410422         NaN         NaN\n",
      "\n",
      "[197 rows x 7 columns]\n"
     ]
    }
   ],
   "source": [
    "print(tech_layoffs_location)"
   ]
  },
  {
   "cell_type": "code",
   "execution_count": 27,
   "metadata": {},
   "outputs": [],
   "source": [
    "tech_layoffs_location['State'] = tech_layoffs_location['State'].fillna(tech_layoffs_location['location_HQ'])"
   ]
  },
  {
   "cell_type": "code",
   "execution_count": 28,
   "metadata": {},
   "outputs": [],
   "source": [
    "tech_layoffs_location = tech_layoffs_location.iloc[:, :5]"
   ]
  },
  {
   "cell_type": "code",
   "execution_count": 29,
   "metadata": {},
   "outputs": [
    {
     "name": "stdout",
     "output_type": "stream",
     "text": [
      "      location_HQ       State      Country     latitude     longitude\n",
      "0        Adelaide    Adelaide    Australia  -34,9281805   138,5999312\n",
      "1    Agoura Hills  California          USA     34,14791  -118,7657042\n",
      "2       Ahmedabad   Ahmedabad        India   23,0216238    72,5797068\n",
      "3         Alameda  California          USA   37,6090291   -121,899142\n",
      "4       Amsterdam   Amsterdam  Netherlands   52,3730796     4,8924534\n",
      "..            ...         ...          ...          ...           ...\n",
      "192    Wellington  Wellington  New Zealand  -41,2887953   174,7772114\n",
      "193    Wilmington  Wilmington          USA   39,7459468    -75,546589\n",
      "194         Xi'an       Xi'an        China    34,261004   108,9423363\n",
      "195         Yavne       Yavne       Israel   31,8768863    34,7382974\n",
      "196        Zurich      Zurich  Switzerland   47,3744489     8,5410422\n",
      "\n",
      "[197 rows x 5 columns]\n"
     ]
    }
   ],
   "source": [
    "print(tech_layoffs_location)"
   ]
  },
  {
   "cell_type": "code",
   "execution_count": 30,
   "metadata": {},
   "outputs": [],
   "source": [
    "tech_layoffs_location['latitude'] = tech_layoffs_location['latitude'].str.replace(',', '.').astype(float)\n",
    "tech_layoffs_location['longitude'] = tech_layoffs_location['longitude'].str.replace(',', '.').astype(float)\n"
   ]
  },
  {
   "cell_type": "code",
   "execution_count": 31,
   "metadata": {},
   "outputs": [
    {
     "name": "stdout",
     "output_type": "stream",
     "text": [
      "Requirement already satisfied: folium in d:\\depi data engineering\\layoffs\\lib\\site-packages (0.17.0)\n",
      "Requirement already satisfied: branca>=0.6.0 in d:\\depi data engineering\\layoffs\\lib\\site-packages (from folium) (0.7.2)\n",
      "Requirement already satisfied: jinja2>=2.9 in d:\\depi data engineering\\layoffs\\lib\\site-packages (from folium) (3.1.4)\n",
      "Requirement already satisfied: numpy in d:\\depi data engineering\\layoffs\\lib\\site-packages (from folium) (2.1.1)\n",
      "Requirement already satisfied: requests in d:\\depi data engineering\\layoffs\\lib\\site-packages (from folium) (2.32.3)\n",
      "Requirement already satisfied: xyzservices in d:\\depi data engineering\\layoffs\\lib\\site-packages (from folium) (2024.9.0)\n",
      "Requirement already satisfied: MarkupSafe>=2.0 in d:\\depi data engineering\\layoffs\\lib\\site-packages (from jinja2>=2.9->folium) (2.1.5)\n",
      "Requirement already satisfied: charset-normalizer<4,>=2 in d:\\depi data engineering\\layoffs\\lib\\site-packages (from requests->folium) (3.3.2)\n",
      "Requirement already satisfied: idna<4,>=2.5 in d:\\depi data engineering\\layoffs\\lib\\site-packages (from requests->folium) (3.8)\n",
      "Requirement already satisfied: urllib3<3,>=1.21.1 in d:\\depi data engineering\\layoffs\\lib\\site-packages (from requests->folium) (2.2.2)\n",
      "Requirement already satisfied: certifi>=2017.4.17 in d:\\depi data engineering\\layoffs\\lib\\site-packages (from requests->folium) (2024.8.30)\n",
      "Note: you may need to restart the kernel to use updated packages.\n"
     ]
    },
    {
     "name": "stderr",
     "output_type": "stream",
     "text": [
      "\n",
      "[notice] A new release of pip is available: 23.1.2 -> 24.2\n",
      "[notice] To update, run: python.exe -m pip install --upgrade pip\n"
     ]
    }
   ],
   "source": [
    "%pip install folium"
   ]
  },
  {
   "cell_type": "code",
   "execution_count": 32,
   "metadata": {},
   "outputs": [],
   "source": [
    "import folium\n",
    "\n",
    "latitude_mean = tech_layoffs_location['latitude'].mean()\n",
    "longitude_mean = tech_layoffs_location['longitude'].mean()\n",
    "\n",
    "m = folium.Map(location=[latitude_mean, longitude_mean], zoom_start=5)\n",
    "\n",
    "for i, row in tech_layoffs_location.iterrows():\n",
    "    folium.Marker([row['latitude'], row['longitude']], popup=f\"Location: {row['location_HQ']}\").add_to(m)\n",
    "\n",
    "m.save(\"layoffs_location_map.html\")\n"
   ]
  },
  {
   "cell_type": "code",
   "execution_count": 33,
   "metadata": {},
   "outputs": [],
   "source": [
    "tech_layoffs_location.to_csv('cleaned_tech_layoffs_location.csv', index = False, header = True, encoding = 'utf-8', sep = ';', mode = 'w')"
   ]
  },
  {
   "cell_type": "markdown",
   "metadata": {},
   "source": [
    "<h1>tech_layoffs_til_Q1_2024.txt<h2>"
   ]
  },
  {
   "cell_type": "code",
   "execution_count": 34,
   "metadata": {},
   "outputs": [
    {
     "name": "stdout",
     "output_type": "stream",
     "text": [
      "       Nr.     #          Company             Location_HQ Country      Continent  Laid_Off Date_layoffs  Percentage  Company_Size_before_Layoffs  Company_Size_after_layoffs        Industry      Stage Money_Raised_in_$_mil  Year        lat         lng\n",
      "0        1     3        ShareChat               Bengaluru   India           Asia     200.0   2023-12-20        15.0                       1333.0                      1133.0        Consumer   Series H                 $1700  2023  12.971940   77.593690\n",
      "1        2     4        InSightec                   Haifa  Israel           Asia     100.0   2023-12-19        20.0                        500.0                       400.0      Healthcare    Unknown                  $733  2023  32.818410   34.988500\n",
      "2        3     6   Enphase Energy  San Francisco Bay Area     USA  North America     350.0   2023-12-18        10.0                       3500.0                      3150.0          Energy   Post-IPO                  $116  2023  37.548270 -121.988570\n",
      "3        4     7            Udaan               Bengaluru   India           Asia     100.0   2023-12-18        10.0                       1000.0                       900.0          Retail    Unknown                   NaN  2023  12.971940   77.593690\n",
      "4        5    14           Cruise  San Francisco Bay Area     USA  North America     900.0   2023-12-14        24.0                       3750.0                      2850.0  Transportation   Acquired                $15000  2023  37.774930 -122.419420\n",
      "...    ...   ...              ...                     ...     ...            ...       ...          ...         ...                          ...                         ...             ...        ...                   ...   ...        ...         ...\n",
      "1667  1668  3533           TomTom                    Lodz  Poland         Europe      45.0   2023-12-12         NaN                          NaN                         NaN      Transport…   Post-IPO                   NaN  2024  51.768732   19.456991\n",
      "1668  1669  3534     Chipper Cash  San Francisco Bay Area     USA  North America      15.0   2023-12-11        33.0                         45.0                        30.0         Finance   Series C                  $302  2024  37.774930 -122.419420\n",
      "1669  1670  3535     Jungle Scout                  Austin     USA  North America       NaN   2023-12-09         NaN                          NaN                         NaN          Retail  Private …                  $110  2024  30.267150  -97.743060\n",
      "1670  1671  3536  SmileDirectClub               Nashville     USA  North America       NaN   2023-12-09       100.0                          NaN                         0.0      Healthcare   Post-IPO                  $694  2024  36.165890  -86.784440\n",
      "1671  1672  3537       Sunfolding  San Francisco Bay Area     USA  North America       NaN   2023-12-09       100.0                          NaN                         0.0          Energy   Series B                   $32  2024  37.774930 -122.419420\n",
      "\n",
      "[1672 rows x 17 columns]\n"
     ]
    }
   ],
   "source": [
    "import pandas as pd \n",
    "import numpy as np\n",
    "\n",
    "pd.set_option('display.expand_frame_repr', False)\n",
    "\n",
    "tech_layoffs_q1 = pd.read_csv(r'D:\\DEPI Data Engineering\\personalWork\\Company layoffs\\layoffs 2020 - 2024\\tech_layoffs_til_Q1_2024.txt', sep = ';')\n",
    "\n",
    "print(tech_layoffs_q1)"
   ]
  },
  {
   "cell_type": "code",
   "execution_count": 35,
   "metadata": {},
   "outputs": [
    {
     "name": "stdout",
     "output_type": "stream",
     "text": [
      "1672\n"
     ]
    },
    {
     "data": {
      "text/plain": [
       "np.int64(3537)"
      ]
     },
     "execution_count": 35,
     "metadata": {},
     "output_type": "execute_result"
    }
   ],
   "source": [
    "unique_id = tech_layoffs_q1['#'].nunique()\n",
    "print(unique_id)\n",
    "\n",
    "tech_layoffs_q1['#'].max()"
   ]
  },
  {
   "cell_type": "code",
   "execution_count": 36,
   "metadata": {},
   "outputs": [],
   "source": [
    "tech_layoffs_q1 = tech_layoffs_q1.drop(['Stage', 'Nr.'], axis = 1)"
   ]
  },
  {
   "cell_type": "code",
   "execution_count": 37,
   "metadata": {},
   "outputs": [
    {
     "name": "stdout",
     "output_type": "stream",
     "text": [
      "         #          Company             Location_HQ Country      Continent  Laid_Off Date_layoffs  Percentage  Company_Size_before_Layoffs  Company_Size_after_layoffs        Industry Money_Raised_in_$_mil  Year        lat         lng\n",
      "0        3        ShareChat               Bengaluru   India           Asia     200.0   2023-12-20        15.0                       1333.0                      1133.0        Consumer                 $1700  2023  12.971940   77.593690\n",
      "1        4        InSightec                   Haifa  Israel           Asia     100.0   2023-12-19        20.0                        500.0                       400.0      Healthcare                  $733  2023  32.818410   34.988500\n",
      "2        6   Enphase Energy  San Francisco Bay Area     USA  North America     350.0   2023-12-18        10.0                       3500.0                      3150.0          Energy                  $116  2023  37.548270 -121.988570\n",
      "3        7            Udaan               Bengaluru   India           Asia     100.0   2023-12-18        10.0                       1000.0                       900.0          Retail                   NaN  2023  12.971940   77.593690\n",
      "4       14           Cruise  San Francisco Bay Area     USA  North America     900.0   2023-12-14        24.0                       3750.0                      2850.0  Transportation                $15000  2023  37.774930 -122.419420\n",
      "...    ...              ...                     ...     ...            ...       ...          ...         ...                          ...                         ...             ...                   ...   ...        ...         ...\n",
      "1667  3533           TomTom                    Lodz  Poland         Europe      45.0   2023-12-12         NaN                          NaN                         NaN      Transport…                   NaN  2024  51.768732   19.456991\n",
      "1668  3534     Chipper Cash  San Francisco Bay Area     USA  North America      15.0   2023-12-11        33.0                         45.0                        30.0         Finance                  $302  2024  37.774930 -122.419420\n",
      "1669  3535     Jungle Scout                  Austin     USA  North America       NaN   2023-12-09         NaN                          NaN                         NaN          Retail                  $110  2024  30.267150  -97.743060\n",
      "1670  3536  SmileDirectClub               Nashville     USA  North America       NaN   2023-12-09       100.0                          NaN                         0.0      Healthcare                  $694  2024  36.165890  -86.784440\n",
      "1671  3537       Sunfolding  San Francisco Bay Area     USA  North America       NaN   2023-12-09       100.0                          NaN                         0.0          Energy                   $32  2024  37.774930 -122.419420\n",
      "\n",
      "[1672 rows x 15 columns]\n"
     ]
    }
   ],
   "source": [
    "print(tech_layoffs_q1)"
   ]
  },
  {
   "cell_type": "code",
   "execution_count": 38,
   "metadata": {},
   "outputs": [
    {
     "name": "stdout",
     "output_type": "stream",
     "text": [
      "         #          Company             Location_HQ Country      Continent  Laid_Off Date_layoffs  Percentage  Company_Size_before_Layoffs  Company_Size_after_layoffs        Industry  Money_Raised_in_$_mil  Year        lat         lng\n",
      "0        3        ShareChat               Bengaluru   India           Asia     200.0   2023-12-20        15.0                       1333.0                      1133.0        Consumer                 1700.0  2023  12.971940   77.593690\n",
      "1        4        InSightec                   Haifa  Israel           Asia     100.0   2023-12-19        20.0                        500.0                       400.0      Healthcare                  733.0  2023  32.818410   34.988500\n",
      "2        6   Enphase Energy  San Francisco Bay Area     USA  North America     350.0   2023-12-18        10.0                       3500.0                      3150.0          Energy                  116.0  2023  37.548270 -121.988570\n",
      "3        7            Udaan               Bengaluru   India           Asia     100.0   2023-12-18        10.0                       1000.0                       900.0          Retail                    NaN  2023  12.971940   77.593690\n",
      "4       14           Cruise  San Francisco Bay Area     USA  North America     900.0   2023-12-14        24.0                       3750.0                      2850.0  Transportation                15000.0  2023  37.774930 -122.419420\n",
      "...    ...              ...                     ...     ...            ...       ...          ...         ...                          ...                         ...             ...                    ...   ...        ...         ...\n",
      "1667  3533           TomTom                    Lodz  Poland         Europe      45.0   2023-12-12         NaN                          NaN                         NaN      Transport…                    NaN  2024  51.768732   19.456991\n",
      "1668  3534     Chipper Cash  San Francisco Bay Area     USA  North America      15.0   2023-12-11        33.0                         45.0                        30.0         Finance                  302.0  2024  37.774930 -122.419420\n",
      "1669  3535     Jungle Scout                  Austin     USA  North America       NaN   2023-12-09         NaN                          NaN                         NaN          Retail                  110.0  2024  30.267150  -97.743060\n",
      "1670  3536  SmileDirectClub               Nashville     USA  North America       NaN   2023-12-09       100.0                          NaN                         0.0      Healthcare                  694.0  2024  36.165890  -86.784440\n",
      "1671  3537       Sunfolding  San Francisco Bay Area     USA  North America       NaN   2023-12-09       100.0                          NaN                         0.0          Energy                   32.0  2024  37.774930 -122.419420\n",
      "\n",
      "[1672 rows x 15 columns]\n"
     ]
    }
   ],
   "source": [
    "tech_layoffs_q1['Money_Raised_in_$_mil'] = tech_layoffs_q1['Money_Raised_in_$_mil'].str.replace('$', '', regex = False)\n",
    "\n",
    "tech_layoffs_q1['Money_Raised_in_$_mil'] = pd.to_numeric(tech_layoffs_q1['Money_Raised_in_$_mil'], errors = 'coerce')\n",
    "\n",
    "print(tech_layoffs_q1)"
   ]
  },
  {
   "cell_type": "code",
   "execution_count": 39,
   "metadata": {},
   "outputs": [
    {
     "name": "stdout",
     "output_type": "stream",
     "text": [
      "         #          Company             Location_HQ Country      Continent  Laid_Off Date_layoffs  Percentage  Company_Size_before_Layoffs  Company_Size_after_layoffs        Industry  Money_Raised_in_$_mil  Year        lat         lng\n",
      "0        3        ShareChat               Bengaluru   India           Asia     200.0   2023-12-20          15                         1333                        1133        Consumer                 1700.0  2023  12.971940   77.593690\n",
      "1        4        InSightec                   Haifa  Israel           Asia     100.0   2023-12-19          20                          500                         400      Healthcare                  733.0  2023  32.818410   34.988500\n",
      "2        6   Enphase Energy  San Francisco Bay Area     USA  North America     350.0   2023-12-18          10                         3500                        3150          Energy                  116.0  2023  37.548270 -121.988570\n",
      "3        7            Udaan               Bengaluru   India           Asia     100.0   2023-12-18          10                         1000                         900          Retail                    NaN  2023  12.971940   77.593690\n",
      "4       14           Cruise  San Francisco Bay Area     USA  North America     900.0   2023-12-14          24                         3750                        2850  Transportation                15000.0  2023  37.774930 -122.419420\n",
      "...    ...              ...                     ...     ...            ...       ...          ...         ...                          ...                         ...             ...                    ...   ...        ...         ...\n",
      "1667  3533           TomTom                    Lodz  Poland         Europe      45.0   2023-12-12           0                            0                           0      Transport…                    NaN  2024  51.768732   19.456991\n",
      "1668  3534     Chipper Cash  San Francisco Bay Area     USA  North America      15.0   2023-12-11          33                           45                          30         Finance                  302.0  2024  37.774930 -122.419420\n",
      "1669  3535     Jungle Scout                  Austin     USA  North America       0.0   2023-12-09           0                            0                           0          Retail                  110.0  2024  30.267150  -97.743060\n",
      "1670  3536  SmileDirectClub               Nashville     USA  North America       0.0   2023-12-09         100                            0                           0      Healthcare                  694.0  2024  36.165890  -86.784440\n",
      "1671  3537       Sunfolding  San Francisco Bay Area     USA  North America       0.0   2023-12-09         100                            0                           0          Energy                   32.0  2024  37.774930 -122.419420\n",
      "\n",
      "[1672 rows x 15 columns]\n"
     ]
    }
   ],
   "source": [
    "tech_layoffs_q1['Percentage'] = tech_layoffs_q1['Percentage'].fillna(0).astype(int)\n",
    "tech_layoffs_q1['Company_Size_before_Layoffs'] = tech_layoffs_q1['Company_Size_before_Layoffs'].fillna(0).astype(int)\n",
    "tech_layoffs_q1['Company_Size_after_layoffs'] = tech_layoffs_q1['Company_Size_after_layoffs'].fillna(0).astype(int)\n",
    "\n",
    "\n",
    "tech_layoffs_q1['Laid_Off'] = tech_layoffs_q1['Laid_Off'].fillna(0)\n",
    "tech_layoffs_q1['lat'] = tech_layoffs_q1['lat'].fillna(0)\n",
    "tech_layoffs_q1['lng'] = tech_layoffs_q1['lng'].fillna(0)\n",
    "\n",
    "print(tech_layoffs_q1)\n"
   ]
  },
  {
   "cell_type": "code",
   "execution_count": 40,
   "metadata": {},
   "outputs": [
    {
     "name": "stdout",
     "output_type": "stream",
     "text": [
      "      company_id          Company             Location_HQ Country      Continent  Laid_Off Date_layoffs  Percentage  Company_Size_before_Layoffs  Company_Size_after_layoffs        Industry  Money_Raised_in_$_mil  Year   latitude   longitude\n",
      "0              3        ShareChat               Bengaluru   India           Asia     200.0   2023-12-20          15                         1333                        1133        Consumer                 1700.0  2023  12.971940   77.593690\n",
      "1              4        InSightec                   Haifa  Israel           Asia     100.0   2023-12-19          20                          500                         400      Healthcare                  733.0  2023  32.818410   34.988500\n",
      "2              6   Enphase Energy  San Francisco Bay Area     USA  North America     350.0   2023-12-18          10                         3500                        3150          Energy                  116.0  2023  37.548270 -121.988570\n",
      "3              7            Udaan               Bengaluru   India           Asia     100.0   2023-12-18          10                         1000                         900          Retail                    NaN  2023  12.971940   77.593690\n",
      "4             14           Cruise  San Francisco Bay Area     USA  North America     900.0   2023-12-14          24                         3750                        2850  Transportation                15000.0  2023  37.774930 -122.419420\n",
      "...          ...              ...                     ...     ...            ...       ...          ...         ...                          ...                         ...             ...                    ...   ...        ...         ...\n",
      "1667        3533           TomTom                    Lodz  Poland         Europe      45.0   2023-12-12           0                            0                           0      Transport…                    NaN  2024  51.768732   19.456991\n",
      "1668        3534     Chipper Cash  San Francisco Bay Area     USA  North America      15.0   2023-12-11          33                           45                          30         Finance                  302.0  2024  37.774930 -122.419420\n",
      "1669        3535     Jungle Scout                  Austin     USA  North America       0.0   2023-12-09           0                            0                           0          Retail                  110.0  2024  30.267150  -97.743060\n",
      "1670        3536  SmileDirectClub               Nashville     USA  North America       0.0   2023-12-09         100                            0                           0      Healthcare                  694.0  2024  36.165890  -86.784440\n",
      "1671        3537       Sunfolding  San Francisco Bay Area     USA  North America       0.0   2023-12-09         100                            0                           0          Energy                   32.0  2024  37.774930 -122.419420\n",
      "\n",
      "[1672 rows x 15 columns]\n"
     ]
    }
   ],
   "source": [
    "new_columns_name = {\n",
    "    'lat' : 'latitude',\n",
    "    'lng' : 'longitude',\n",
    "    '#' : 'company_id'\n",
    "    }\n",
    "\n",
    "tech_layoffs_q1.rename(columns = new_columns_name, inplace = True)\n",
    "\n",
    "print(tech_layoffs_q1)"
   ]
  },
  {
   "cell_type": "code",
   "execution_count": 41,
   "metadata": {},
   "outputs": [
    {
     "data": {
      "text/plain": [
       "company_id                       int64\n",
       "Company                         object\n",
       "Location_HQ                     object\n",
       "Country                         object\n",
       "Continent                       object\n",
       "Laid_Off                       float64\n",
       "Date_layoffs                    object\n",
       "Percentage                       int64\n",
       "Company_Size_before_Layoffs      int64\n",
       "Company_Size_after_layoffs       int64\n",
       "Industry                        object\n",
       "Money_Raised_in_$_mil          float64\n",
       "Year                             int64\n",
       "latitude                       float64\n",
       "longitude                      float64\n",
       "dtype: object"
      ]
     },
     "execution_count": 41,
     "metadata": {},
     "output_type": "execute_result"
    }
   ],
   "source": [
    "tech_layoffs_q1.dtypes"
   ]
  },
  {
   "cell_type": "code",
   "execution_count": 42,
   "metadata": {},
   "outputs": [],
   "source": [
    "tech_layoffs_q1.to_csv('cleaned_tech_layoffs_q1.csv', index = False, header = True, encoding = 'utf-8', sep = ';', mode = 'w')"
   ]
  },
  {
   "cell_type": "markdown",
   "metadata": {},
   "source": [
    "<h1>tech_layoffs_Q2<h2>"
   ]
  },
  {
   "cell_type": "code",
   "execution_count": 43,
   "metadata": {},
   "outputs": [
    {
     "name": "stdout",
     "output_type": "stream",
     "text": [
      "         #        Company    Location_HQ                  Region       State Country      Continent  Laid_Off Date_layoffs Percentage Company_Size_before_Layoffs Company_Size_after_layoffs        Industry     Stage  Money_Raised_in__mil  Year   latitude   longitude\n",
      "0        1  Tamara Mellon    Los Angeles                     NaN  California     USA  North America      20.0   2020-03-12       40,0                         50                         30           Retail  Series C                  90.0  2020  34.053691 -118.242766\n",
      "1        2   HopSkipDrive    Los Angeles                     NaN  California     USA  North America       8.0   2020-03-13       10,0                         80                         72   Transportation   Unknown                  45.0  2020  34.053691 -118.242766\n",
      "2        3    Panda Squad  San Francisco  San Francisco Bay Area  California     USA  North America       6.0   2020-03-13       75,0                          8                          2         Consumer      Seed                   1.0  2020  37.779259 -122.419329\n",
      "3        4       Help.com         Austin                     NaN         NaN     USA  North America      16.0   2020-03-16      100,0                         16                          0          Support      Seed                   6.0  2020  30.271129  -97.743700\n",
      "4        5      Inspirato         Denver                     NaN         NaN     USA  North America     130.0   2020-03-16       22,0                        591                        461           Travel  Series C                  79.0  2020  39.739236 -104.984862\n",
      "...    ...            ...            ...                     ...         ...     ...            ...       ...          ...        ...                         ...                        ...             ...       ...                   ...   ...        ...         ...\n",
      "1834  1835   Moxion Power       Richmond  San Francisco Bay Area  California     USA  North America     101.0   2024-06-26        NaN                         NaN                        NaN          Energy   Unknown                 124.0  2024  37.538509  -77.434280\n",
      "1835  1836         Perion       Tel Aviv                     NaN         NaN  Israel           Asia      35.0   2024-06-26        5,0                        700                        665        Marketing  Post-IPO                  76.0  2024  32.085300   34.781806\n",
      "1836  1837         Planet  San Francisco  San Francisco Bay Area  California     USA  North America     180.0   2024-06-26       17,0                       1059                        879        Aerospace  Post-IPO                 574.0  2024  37.779259 -122.419329\n",
      "1837  1838       RealPage         Dallas                     NaN         NaN     USA  North America      20.0   2024-06-27        4,0                        500                        480      Real Estate  Acquired                 105.0  2024  32.776272  -96.796856\n",
      "1838  1839      Priceline        Norwalk                     NaN         NaN     USA  North America     103.0   2024-06-28       17,0                        606                        503           Travel  Acquired                  77.0  2024  41.117597  -73.407897\n",
      "\n",
      "[1839 rows x 18 columns]\n"
     ]
    }
   ],
   "source": [
    "import pandas as pd \n",
    "import numpy as np \n",
    "\n",
    "tech_layoffs_q2 = pd.read_csv(r'D:\\DEPI Data Engineering\\personalWork\\Company layoffs\\layoffs 2020 - 2024\\tech_layoffs_Q2_2024.csv')\n",
    "\n",
    "print(tech_layoffs_q2)"
   ]
  },
  {
   "cell_type": "code",
   "execution_count": 44,
   "metadata": {},
   "outputs": [
    {
     "name": "stdout",
     "output_type": "stream",
     "text": [
      "         #        Company    Location_HQ Country      Continent  Laid_Off Date_layoffs Percentage Company_Size_before_Layoffs Company_Size_after_layoffs        Industry  Money_Raised_in__mil  Year   latitude   longitude\n",
      "0        1  Tamara Mellon    Los Angeles     USA  North America      20.0   2020-03-12       40,0                         50                         30           Retail                  90.0  2020  34.053691 -118.242766\n",
      "1        2   HopSkipDrive    Los Angeles     USA  North America       8.0   2020-03-13       10,0                         80                         72   Transportation                  45.0  2020  34.053691 -118.242766\n",
      "2        3    Panda Squad  San Francisco     USA  North America       6.0   2020-03-13       75,0                          8                          2         Consumer                   1.0  2020  37.779259 -122.419329\n",
      "3        4       Help.com         Austin     USA  North America      16.0   2020-03-16      100,0                         16                          0          Support                   6.0  2020  30.271129  -97.743700\n",
      "4        5      Inspirato         Denver     USA  North America     130.0   2020-03-16       22,0                        591                        461           Travel                  79.0  2020  39.739236 -104.984862\n",
      "...    ...            ...            ...     ...            ...       ...          ...        ...                         ...                        ...             ...                   ...   ...        ...         ...\n",
      "1834  1835   Moxion Power       Richmond     USA  North America     101.0   2024-06-26        NaN                         NaN                        NaN          Energy                 124.0  2024  37.538509  -77.434280\n",
      "1835  1836         Perion       Tel Aviv  Israel           Asia      35.0   2024-06-26        5,0                        700                        665        Marketing                  76.0  2024  32.085300   34.781806\n",
      "1836  1837         Planet  San Francisco     USA  North America     180.0   2024-06-26       17,0                       1059                        879        Aerospace                 574.0  2024  37.779259 -122.419329\n",
      "1837  1838       RealPage         Dallas     USA  North America      20.0   2024-06-27        4,0                        500                        480      Real Estate                 105.0  2024  32.776272  -96.796856\n",
      "1838  1839      Priceline        Norwalk     USA  North America     103.0   2024-06-28       17,0                        606                        503           Travel                  77.0  2024  41.117597  -73.407897\n",
      "\n",
      "[1839 rows x 15 columns]\n"
     ]
    }
   ],
   "source": [
    "tech_layoffs_q2 = tech_layoffs_q2.drop(['Stage', 'Region', 'State'], axis = 1)\n",
    "\n",
    "print(tech_layoffs_q2)"
   ]
  },
  {
   "cell_type": "code",
   "execution_count": 45,
   "metadata": {},
   "outputs": [
    {
     "name": "stdout",
     "output_type": "stream",
     "text": [
      "         #        Company    Location_HQ Country      Continent  Laid_Off Date_layoffs Percentage Company_Size_before_Layoffs Company_Size_after_layoffs        Industry  Money_Raised_in__mil  Year   latitude   longitude\n",
      "0     4716  Tamara Mellon    Los Angeles     USA  North America      20.0   2020-03-12       40,0                         50                         30           Retail                  90.0  2020  34.053691 -118.242766\n",
      "1     3701   HopSkipDrive    Los Angeles     USA  North America       8.0   2020-03-13       10,0                         80                         72   Transportation                  45.0  2020  34.053691 -118.242766\n",
      "2     4244    Panda Squad  San Francisco     USA  North America       6.0   2020-03-13       75,0                          8                          2         Consumer                   1.0  2020  37.779259 -122.419329\n",
      "3     4134       Help.com         Austin     USA  North America      16.0   2020-03-16      100,0                         16                          0          Support                   6.0  2020  30.271129  -97.743700\n",
      "4     4842      Inspirato         Denver     USA  North America     130.0   2020-03-16       22,0                        591                        461           Travel                  79.0  2020  39.739236 -104.984862\n",
      "...    ...            ...            ...     ...            ...       ...          ...        ...                         ...                        ...             ...                   ...   ...        ...         ...\n",
      "1834  5251   Moxion Power       Richmond     USA  North America     101.0   2024-06-26        NaN                         NaN                        NaN          Energy                 124.0  2024  37.538509  -77.434280\n",
      "1835  4983         Perion       Tel Aviv  Israel           Asia      35.0   2024-06-26        5,0                        700                        665        Marketing                  76.0  2024  32.085300   34.781806\n",
      "1836  4740         Planet  San Francisco     USA  North America     180.0   2024-06-26       17,0                       1059                        879        Aerospace                 574.0  2024  37.779259 -122.419329\n",
      "1837  3570       RealPage         Dallas     USA  North America      20.0   2024-06-27        4,0                        500                        480      Real Estate                 105.0  2024  32.776272  -96.796856\n",
      "1838  5149      Priceline        Norwalk     USA  North America     103.0   2024-06-28       17,0                        606                        503           Travel                  77.0  2024  41.117597  -73.407897\n",
      "\n",
      "[1839 rows x 15 columns]\n"
     ]
    }
   ],
   "source": [
    "min_id = 3538\n",
    "max_id = 5380\n",
    "\n",
    "tech_layoffs_q2['#'] = np.random.randint(min_id, max_id + 1, size = len(tech_layoffs_q2))\n",
    "\n",
    "print(tech_layoffs_q2)"
   ]
  },
  {
   "cell_type": "code",
   "execution_count": 46,
   "metadata": {},
   "outputs": [
    {
     "name": "stdout",
     "output_type": "stream",
     "text": [
      "         #        Company    Location_HQ Country      Continent  Laid_Off Date_layoffs  Percentage Company_Size_before_Layoffs Company_Size_after_layoffs        Industry  Money_Raised_in__mil  Year   latitude   longitude\n",
      "0     4716  Tamara Mellon    Los Angeles     USA  North America      20.0   2020-03-12        40.0                         50                         30           Retail                  90.0  2020  34.053691 -118.242766\n",
      "1     3701   HopSkipDrive    Los Angeles     USA  North America       8.0   2020-03-13        10.0                         80                         72   Transportation                  45.0  2020  34.053691 -118.242766\n",
      "2     4244    Panda Squad  San Francisco     USA  North America       6.0   2020-03-13        75.0                          8                          2         Consumer                   1.0  2020  37.779259 -122.419329\n",
      "3     4134       Help.com         Austin     USA  North America      16.0   2020-03-16       100.0                         16                          0          Support                   6.0  2020  30.271129  -97.743700\n",
      "4     4842      Inspirato         Denver     USA  North America     130.0   2020-03-16        22.0                        591                        461           Travel                  79.0  2020  39.739236 -104.984862\n",
      "...    ...            ...            ...     ...            ...       ...          ...         ...                         ...                        ...             ...                   ...   ...        ...         ...\n",
      "1834  5251   Moxion Power       Richmond     USA  North America     101.0   2024-06-26         NaN                         NaN                        NaN          Energy                 124.0  2024  37.538509  -77.434280\n",
      "1835  4983         Perion       Tel Aviv  Israel           Asia      35.0   2024-06-26         5.0                        700                        665        Marketing                  76.0  2024  32.085300   34.781806\n",
      "1836  4740         Planet  San Francisco     USA  North America     180.0   2024-06-26        17.0                       1059                        879        Aerospace                 574.0  2024  37.779259 -122.419329\n",
      "1837  3570       RealPage         Dallas     USA  North America      20.0   2024-06-27         4.0                        500                        480      Real Estate                 105.0  2024  32.776272  -96.796856\n",
      "1838  5149      Priceline        Norwalk     USA  North America     103.0   2024-06-28        17.0                        606                        503           Travel                  77.0  2024  41.117597  -73.407897\n",
      "\n",
      "[1839 rows x 15 columns]\n"
     ]
    }
   ],
   "source": [
    "tech_layoffs_q2['Percentage'] = tech_layoffs_q2['Percentage'].str.replace(',0', '', regex = False)\n",
    "\n",
    "tech_layoffs_q2['Percentage'] = pd.to_numeric(tech_layoffs_q2['Percentage'], errors = 'coerce')\n",
    "\n",
    "print(tech_layoffs_q2)"
   ]
  },
  {
   "cell_type": "code",
   "execution_count": 47,
   "metadata": {},
   "outputs": [
    {
     "name": "stdout",
     "output_type": "stream",
     "text": [
      "         #        Company    Location_HQ Country      Continent  Laid_Off Date_layoffs  Percentage  Company_Size_before_Layoffs  Company_Size_after_layoffs        Industry  Money_Raised_in__mil  Year   latitude   longitude\n",
      "0     4716  Tamara Mellon    Los Angeles     USA  North America      20.0   2020-03-12          40                           50                          30          Retail                  90.0  2020  34.053691 -118.242766\n",
      "1     3701   HopSkipDrive    Los Angeles     USA  North America       8.0   2020-03-13          10                           80                          72  Transportation                  45.0  2020  34.053691 -118.242766\n",
      "2     4244    Panda Squad  San Francisco     USA  North America       6.0   2020-03-13          75                            8                           2        Consumer                   1.0  2020  37.779259 -122.419329\n",
      "3     4134       Help.com         Austin     USA  North America      16.0   2020-03-16         100                           16                           0         Support                   6.0  2020  30.271129  -97.743700\n",
      "4     4842      Inspirato         Denver     USA  North America     130.0   2020-03-16          22                          591                         461          Travel                  79.0  2020  39.739236 -104.984862\n",
      "...    ...            ...            ...     ...            ...       ...          ...         ...                          ...                         ...             ...                   ...   ...        ...         ...\n",
      "1834  5251   Moxion Power       Richmond     USA  North America     101.0   2024-06-26           0                            0                           0          Energy                 124.0  2024  37.538509  -77.434280\n",
      "1835  4983         Perion       Tel Aviv  Israel           Asia      35.0   2024-06-26           5                          700                         665       Marketing                  76.0  2024  32.085300   34.781806\n",
      "1836  4740         Planet  San Francisco     USA  North America     180.0   2024-06-26          17                         1059                         879       Aerospace                 574.0  2024  37.779259 -122.419329\n",
      "1837  3570       RealPage         Dallas     USA  North America      20.0   2024-06-27           4                          500                         480     Real Estate                 105.0  2024  32.776272  -96.796856\n",
      "1838  5149      Priceline        Norwalk     USA  North America     103.0   2024-06-28          17                          606                         503          Travel                  77.0  2024  41.117597  -73.407897\n",
      "\n",
      "[1839 rows x 15 columns]\n"
     ]
    }
   ],
   "source": [
    "tech_layoffs_q2['Percentage'] = tech_layoffs_q2['Percentage'].fillna(0).astype(int)\n",
    "\n",
    "tech_layoffs_q2['Company_Size_before_Layoffs'] = pd.to_numeric(tech_layoffs_q2['Company_Size_before_Layoffs'], errors='coerce')\n",
    "tech_layoffs_q2['Company_Size_before_Layoffs'] = tech_layoffs_q2['Company_Size_before_Layoffs'].fillna(0).astype(int)\n",
    "\n",
    "tech_layoffs_q2['Company_Size_after_layoffs'] = pd.to_numeric(tech_layoffs_q2['Company_Size_after_layoffs'], errors='coerce')\n",
    "tech_layoffs_q2['Company_Size_after_layoffs'] = tech_layoffs_q2['Company_Size_after_layoffs'].fillna(0).astype(int)\n",
    "\n",
    "tech_layoffs_q2['Laid_Off'] = tech_layoffs_q2['Laid_Off'].fillna(0)\n",
    "tech_layoffs_q2['latitude'] = tech_layoffs_q2['latitude'].fillna(0)\n",
    "tech_layoffs_q2['longitude'] = tech_layoffs_q2['longitude'].fillna(0)\n",
    "\n",
    "print(tech_layoffs_q2)\n"
   ]
  },
  {
   "cell_type": "code",
   "execution_count": 48,
   "metadata": {},
   "outputs": [
    {
     "data": {
      "text/plain": [
       "numpy.int64"
      ]
     },
     "execution_count": 48,
     "metadata": {},
     "output_type": "execute_result"
    }
   ],
   "source": [
    "type(tech_layoffs_q2['Company_Size_after_layoffs'].iloc[0])"
   ]
  },
  {
   "cell_type": "code",
   "execution_count": 49,
   "metadata": {},
   "outputs": [
    {
     "name": "stdout",
     "output_type": "stream",
     "text": [
      "      company_id        Company    Location_HQ Country      Continent  Laid_Off Date_layoffs  Percentage  Company_Size_before_Layoffs  Company_Size_after_layoffs        Industry  Money_Raised_in_$_mil  Year   latitude   longitude\n",
      "0           4716  Tamara Mellon    Los Angeles     USA  North America      20.0   2020-03-12          40                           50                          30          Retail                   90.0  2020  34.053691 -118.242766\n",
      "1           3701   HopSkipDrive    Los Angeles     USA  North America       8.0   2020-03-13          10                           80                          72  Transportation                   45.0  2020  34.053691 -118.242766\n",
      "2           4244    Panda Squad  San Francisco     USA  North America       6.0   2020-03-13          75                            8                           2        Consumer                    1.0  2020  37.779259 -122.419329\n",
      "3           4134       Help.com         Austin     USA  North America      16.0   2020-03-16         100                           16                           0         Support                    6.0  2020  30.271129  -97.743700\n",
      "4           4842      Inspirato         Denver     USA  North America     130.0   2020-03-16          22                          591                         461          Travel                   79.0  2020  39.739236 -104.984862\n",
      "...          ...            ...            ...     ...            ...       ...          ...         ...                          ...                         ...             ...                    ...   ...        ...         ...\n",
      "1834        5251   Moxion Power       Richmond     USA  North America     101.0   2024-06-26           0                            0                           0          Energy                  124.0  2024  37.538509  -77.434280\n",
      "1835        4983         Perion       Tel Aviv  Israel           Asia      35.0   2024-06-26           5                          700                         665       Marketing                   76.0  2024  32.085300   34.781806\n",
      "1836        4740         Planet  San Francisco     USA  North America     180.0   2024-06-26          17                         1059                         879       Aerospace                  574.0  2024  37.779259 -122.419329\n",
      "1837        3570       RealPage         Dallas     USA  North America      20.0   2024-06-27           4                          500                         480     Real Estate                  105.0  2024  32.776272  -96.796856\n",
      "1838        5149      Priceline        Norwalk     USA  North America     103.0   2024-06-28          17                          606                         503          Travel                   77.0  2024  41.117597  -73.407897\n",
      "\n",
      "[1839 rows x 15 columns]\n"
     ]
    }
   ],
   "source": [
    "new_column_name = {\n",
    "    '#' : 'company_id',\n",
    "    'Money_Raised_in__mil' : 'Money_Raised_in_$_mil'\n",
    "}\n",
    "\n",
    "tech_layoffs_q2.rename(columns = new_column_name, inplace = True)\n",
    "\n",
    "print(tech_layoffs_q2)"
   ]
  },
  {
   "cell_type": "code",
   "execution_count": 50,
   "metadata": {},
   "outputs": [
    {
     "data": {
      "text/plain": [
       "company_id                       int32\n",
       "Company                         object\n",
       "Location_HQ                     object\n",
       "Country                         object\n",
       "Continent                       object\n",
       "Laid_Off                       float64\n",
       "Date_layoffs                    object\n",
       "Percentage                       int64\n",
       "Company_Size_before_Layoffs      int64\n",
       "Company_Size_after_layoffs       int64\n",
       "Industry                        object\n",
       "Money_Raised_in_$_mil          float64\n",
       "Year                             int64\n",
       "latitude                       float64\n",
       "longitude                      float64\n",
       "dtype: object"
      ]
     },
     "execution_count": 50,
     "metadata": {},
     "output_type": "execute_result"
    }
   ],
   "source": [
    "tech_layoffs_q2.dtypes"
   ]
  },
  {
   "cell_type": "code",
   "execution_count": 51,
   "metadata": {},
   "outputs": [],
   "source": [
    "tech_layoffs_q2['company_id'] = tech_layoffs_q2['company_id'].astype('Int64')\n"
   ]
  },
  {
   "cell_type": "code",
   "execution_count": 52,
   "metadata": {},
   "outputs": [],
   "source": [
    "tech_layoffs_q2.to_csv('cleaned_tech_layoffs_q2.csv', header = True, index = False, encoding = 'utf-8', sep = ',', mode = 'w')"
   ]
  },
  {
   "cell_type": "code",
   "execution_count": null,
   "metadata": {},
   "outputs": [],
   "source": []
  }
 ],
 "metadata": {
  "kernelspec": {
   "display_name": "layoffs",
   "language": "python",
   "name": "python3"
  },
  "language_info": {
   "codemirror_mode": {
    "name": "ipython",
    "version": 3
   },
   "file_extension": ".py",
   "mimetype": "text/x-python",
   "name": "python",
   "nbconvert_exporter": "python",
   "pygments_lexer": "ipython3",
   "version": "3.11.4"
  }
 },
 "nbformat": 4,
 "nbformat_minor": 2
}
