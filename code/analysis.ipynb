{
 "cells": [
  {
   "cell_type": "code",
   "execution_count": 1,
   "metadata": {},
   "outputs": [
    {
     "name": "stdout",
     "output_type": "stream",
     "text": [
      "Requirement already satisfied: python-dotenv in d:\\depi data engineering\\layoffs\\lib\\site-packages (1.0.1)\n",
      "Note: you may need to restart the kernel to use updated packages.\n"
     ]
    },
    {
     "name": "stderr",
     "output_type": "stream",
     "text": [
      "\n",
      "[notice] A new release of pip is available: 23.1.2 -> 24.2\n",
      "[notice] To update, run: python.exe -m pip install --upgrade pip\n"
     ]
    }
   ],
   "source": [
    "%pip install python-dotenv"
   ]
  },
  {
   "cell_type": "code",
   "execution_count": 2,
   "metadata": {},
   "outputs": [],
   "source": [
    "from dotenv import load_dotenv\n",
    "import os\n",
    "\n",
    "load_dotenv('pwd.env')\n",
    "\n",
    "db_user = os.getenv('DB_USER')\n",
    "db_password = os.getenv('DB_PASSWORD')\n",
    "db_host = os.getenv(\"DB_HOST\")"
   ]
  },
  {
   "cell_type": "code",
   "execution_count": 3,
   "metadata": {},
   "outputs": [
    {
     "name": "stdout",
     "output_type": "stream",
     "text": [
      "connection was successful!\n"
     ]
    }
   ],
   "source": [
    "from sqlalchemy import create_engine, text \n",
    "\n",
    "username = db_user\n",
    "password = db_password\n",
    "host = db_host\n",
    "port = '5433'\n",
    "database = 'companies_DWH'\n",
    "\n",
    "\n",
    "connection_string = f\"postgresql+psycopg2://{username}:{password}@{host}:{port}/{database}\"\n",
    "engine = create_engine(connection_string)\n",
    "\n",
    "try:\n",
    "    with engine.connect() as connection:\n",
    "        print(\"connection was successful!\")\n",
    "except Exception as e:\n",
    "    print(\"connection failed:\", e)"
   ]
  },
  {
   "cell_type": "code",
   "execution_count": 4,
   "metadata": {},
   "outputs": [
    {
     "name": "stdout",
     "output_type": "stream",
     "text": [
      "    table_catalog table_schema         table_name  \\\n",
      "0   companies_DWH       public  layoffs_companies   \n",
      "1   companies_DWH       public  layoffs_companies   \n",
      "2   companies_DWH       public  layoffs_companies   \n",
      "3   companies_DWH       public  layoffs_companies   \n",
      "4   companies_DWH       public  layoffs_companies   \n",
      "5   companies_DWH       public  layoffs_companies   \n",
      "6   companies_DWH       public  layoffs_companies   \n",
      "7   companies_DWH       public  layoffs_companies   \n",
      "8   companies_DWH       public  layoffs_companies   \n",
      "9   companies_DWH       public  layoffs_companies   \n",
      "10  companies_DWH       public  layoffs_companies   \n",
      "11  companies_DWH       public  layoffs_companies   \n",
      "12  companies_DWH       public  layoffs_companies   \n",
      "13  companies_DWH       public  layoffs_companies   \n",
      "14  companies_DWH       public  layoffs_companies   \n",
      "\n",
      "                    column_name  ordinal_position column_default is_nullable  \\\n",
      "0                     longitude                15           None         YES   \n",
      "1   Company_Size_before_Layoffs                 9           None         YES   \n",
      "2    Company_Size_after_layoffs                10           None         YES   \n",
      "3         Money_Raised_in_$_mil                12           None         YES   \n",
      "4                          Year                13           None         YES   \n",
      "5                      latitude                14           None         YES   \n",
      "6                    company_id                 1           None         YES   \n",
      "7                      Laid_Off                 6           None         YES   \n",
      "8                    Percentage                 8           None         YES   \n",
      "9                       Company                 2           None         YES   \n",
      "10                  Location_HQ                 3           None         YES   \n",
      "11                      Country                 4           None         YES   \n",
      "12                    Continent                 5           None         YES   \n",
      "13                     Industry                11           None         YES   \n",
      "14                 Date_layoffs                 7           None         YES   \n",
      "\n",
      "           data_type character_maximum_length  character_octet_length  ...  \\\n",
      "0   double precision                     None                     NaN  ...   \n",
      "1             bigint                     None                     NaN  ...   \n",
      "2             bigint                     None                     NaN  ...   \n",
      "3   double precision                     None                     NaN  ...   \n",
      "4             bigint                     None                     NaN  ...   \n",
      "5   double precision                     None                     NaN  ...   \n",
      "6             bigint                     None                     NaN  ...   \n",
      "7   double precision                     None                     NaN  ...   \n",
      "8             bigint                     None                     NaN  ...   \n",
      "9               text                     None            1.073742e+09  ...   \n",
      "10              text                     None            1.073742e+09  ...   \n",
      "11              text                     None            1.073742e+09  ...   \n",
      "12              text                     None            1.073742e+09  ...   \n",
      "13              text                     None            1.073742e+09  ...   \n",
      "14              text                     None            1.073742e+09  ...   \n",
      "\n",
      "    is_identity  identity_generation  identity_start identity_increment  \\\n",
      "0            NO                 None            None               None   \n",
      "1            NO                 None            None               None   \n",
      "2            NO                 None            None               None   \n",
      "3            NO                 None            None               None   \n",
      "4            NO                 None            None               None   \n",
      "5            NO                 None            None               None   \n",
      "6            NO                 None            None               None   \n",
      "7            NO                 None            None               None   \n",
      "8            NO                 None            None               None   \n",
      "9            NO                 None            None               None   \n",
      "10           NO                 None            None               None   \n",
      "11           NO                 None            None               None   \n",
      "12           NO                 None            None               None   \n",
      "13           NO                 None            None               None   \n",
      "14           NO                 None            None               None   \n",
      "\n",
      "   identity_maximum identity_minimum identity_cycle is_generated  \\\n",
      "0              None             None             NO        NEVER   \n",
      "1              None             None             NO        NEVER   \n",
      "2              None             None             NO        NEVER   \n",
      "3              None             None             NO        NEVER   \n",
      "4              None             None             NO        NEVER   \n",
      "5              None             None             NO        NEVER   \n",
      "6              None             None             NO        NEVER   \n",
      "7              None             None             NO        NEVER   \n",
      "8              None             None             NO        NEVER   \n",
      "9              None             None             NO        NEVER   \n",
      "10             None             None             NO        NEVER   \n",
      "11             None             None             NO        NEVER   \n",
      "12             None             None             NO        NEVER   \n",
      "13             None             None             NO        NEVER   \n",
      "14             None             None             NO        NEVER   \n",
      "\n",
      "   generation_expression is_updatable  \n",
      "0                   None          YES  \n",
      "1                   None          YES  \n",
      "2                   None          YES  \n",
      "3                   None          YES  \n",
      "4                   None          YES  \n",
      "5                   None          YES  \n",
      "6                   None          YES  \n",
      "7                   None          YES  \n",
      "8                   None          YES  \n",
      "9                   None          YES  \n",
      "10                  None          YES  \n",
      "11                  None          YES  \n",
      "12                  None          YES  \n",
      "13                  None          YES  \n",
      "14                  None          YES  \n",
      "\n",
      "[15 rows x 44 columns]\n"
     ]
    }
   ],
   "source": [
    "import pandas as pd\n",
    "\n",
    "companies_layoffs = pd.read_sql(\n",
    "    '''\n",
    "    SELECT * \n",
    "FROM information_schema.columns \n",
    "WHERE table_name = 'layoffs_companies';\n",
    "\n",
    "    ''', engine\n",
    ")\n",
    "\n",
    "print(companies_layoffs)"
   ]
  },
  {
   "cell_type": "code",
   "execution_count": 5,
   "metadata": {},
   "outputs": [
    {
     "name": "stdout",
     "output_type": "stream",
     "text": [
      "     Company  Total_Laid_Off Latest_Layoff_Date\n",
      "0     Amazon         55160.0         2024-04-03\n",
      "1       Meta         42050.0         2024-06-12\n",
      "2  Microsoft         27800.0         2024-06-04\n",
      "3     Google         26557.0         2024-05-31\n",
      "4        SAP         22000.0         2024-01-23\n",
      "5      Tesla         20520.0         2024-04-30\n",
      "6   Ericsson         17000.0         2023-02-24\n",
      "7      Cisco         16700.0         2024-02-14\n",
      "8      Flink         16200.0         2023-05-24\n",
      "9       Uber         15450.0         2023-06-21\n",
      "        name  total employee estimate\n",
      "6  microsoft                   276983\n",
      "5     amazon                   161866\n",
      "4      cisco                   139423\n",
      "3     google                   131349\n",
      "2   facebook                    49059\n",
      "1       uber                    36867\n",
      "0      tesla                    20739\n",
      "     Company  Total_Laid_Off  Percentage_Laid_Off\n",
      "0     amazon         55160.0            34.077570\n",
      "1       meta         42050.0                  NaN\n",
      "2  microsoft         27800.0            10.036717\n",
      "3     google         26557.0            20.218654\n",
      "4        sap         22000.0                  NaN\n",
      "5      tesla         20520.0            98.944019\n",
      "6   ericsson         17000.0                  NaN\n",
      "7      cisco         16700.0            11.977938\n",
      "8      flink         16200.0                  NaN\n",
      "9       uber         15450.0            41.907397\n"
     ]
    },
    {
     "name": "stderr",
     "output_type": "stream",
     "text": [
      "C:\\Users\\Mohamed\\AppData\\Local\\Temp\\ipykernel_8976\\2737320777.py:43: SettingWithCopyWarning: \n",
      "A value is trying to be set on a copy of a slice from a DataFrame.\n",
      "Try using .loc[row_indexer,col_indexer] = value instead\n",
      "\n",
      "See the caveats in the documentation: https://pandas.pydata.org/pandas-docs/stable/user_guide/indexing.html#returning-a-view-versus-a-copy\n",
      "  top_10['Company'] = top_10['Company'].str.lower()\n"
     ]
    }
   ],
   "source": [
    "import pandas as pd \n",
    "import numpy as np \n",
    "\n",
    "pd.set_option('display.expand_frame_repr', False)\n",
    "\n",
    "\n",
    "\n",
    "companies_layoffs_sort = pd.read_sql(\n",
    "    '''\n",
    "    SELECT \n",
    "        \"Company\",\n",
    "        SUM(\"Laid_Off\") AS \"Total_Laid_Off\",\n",
    "        MAX(\"Date_layoffs\") AS \"Latest_Layoff_Date\"\n",
    "    FROM public.layoffs_companies\n",
    "    GROUP BY \"Company\"\n",
    "    ORDER BY \"Total_Laid_Off\" DESC\n",
    "    ''', engine\n",
    ")\n",
    "\n",
    "companies_total_emp = pd.read_sql(\n",
    "    '''\n",
    "    SELECT\n",
    "    \"name\", \"total employee estimate\"\n",
    "    FROM public.\"large_size_companies\"\n",
    "    WHERE \"name\" in ('amazon', 'facebook', 'microsoft', 'google', 'sap', 'tesla', 'ericsson', 'cisco', 'flink', 'uber')\n",
    "    ORDER BY \"total employee estimate\"\n",
    "''', engine\n",
    ")\n",
    "\n",
    "companies_layoff_sort = companies_layoffs_sort.sort_values(by = 'Total_Laid_Off', ascending = False)\n",
    "\n",
    "top_10 = companies_layoff_sort.head(10)\n",
    "\n",
    "print(top_10)\n",
    "\n",
    "\n",
    "companies_total_emp = companies_total_emp.sort_values(by = \"total employee estimate\", ascending = False)\n",
    "\n",
    "top = companies_total_emp.head(10)\n",
    "\n",
    "print(top)\n",
    "\n",
    "top_10['Company'] = top_10['Company'].str.lower()\n",
    "top['name'] = top['name'].str.lower()\n",
    "\n",
    "\n",
    "merged_df = pd.merge(top_10, top, left_on='Company', right_on='name', how='left')\n",
    "\n",
    "merged_df['Percentage_Laid_Off'] = (merged_df['Total_Laid_Off'] / merged_df['total employee estimate']) * 100\n",
    "\n",
    "merged_df['Percentage_Laid_Off'] = merged_df['Percentage_Laid_Off'].fillna(np.nan)\n",
    "\n",
    "print(merged_df[['Company', 'Total_Laid_Off', 'Percentage_Laid_Off']])"
   ]
  },
  {
   "cell_type": "code",
   "execution_count": 6,
   "metadata": {},
   "outputs": [
    {
     "data": {
      "text/html": [
       "<div>\n",
       "<style scoped>\n",
       "    .dataframe tbody tr th:only-of-type {\n",
       "        vertical-align: middle;\n",
       "    }\n",
       "\n",
       "    .dataframe tbody tr th {\n",
       "        vertical-align: top;\n",
       "    }\n",
       "\n",
       "    .dataframe thead th {\n",
       "        text-align: right;\n",
       "    }\n",
       "</style>\n",
       "<table border=\"1\" class=\"dataframe\">\n",
       "  <thead>\n",
       "    <tr style=\"text-align: right;\">\n",
       "      <th></th>\n",
       "      <th>Location_HQ</th>\n",
       "      <th>Total_Laid_Off</th>\n",
       "    </tr>\n",
       "  </thead>\n",
       "  <tbody>\n",
       "    <tr>\n",
       "      <th>0</th>\n",
       "      <td>San Francisco Bay Area</td>\n",
       "      <td>153693.0</td>\n",
       "    </tr>\n",
       "    <tr>\n",
       "      <th>1</th>\n",
       "      <td>Seattle</td>\n",
       "      <td>102406.0</td>\n",
       "    </tr>\n",
       "    <tr>\n",
       "      <th>2</th>\n",
       "      <td>San Francisco</td>\n",
       "      <td>75507.0</td>\n",
       "    </tr>\n",
       "    <tr>\n",
       "      <th>3</th>\n",
       "      <td>New York City</td>\n",
       "      <td>54532.0</td>\n",
       "    </tr>\n",
       "    <tr>\n",
       "      <th>4</th>\n",
       "      <td>Bengaluru</td>\n",
       "      <td>40380.0</td>\n",
       "    </tr>\n",
       "    <tr>\n",
       "      <th>5</th>\n",
       "      <td>Austin</td>\n",
       "      <td>35054.0</td>\n",
       "    </tr>\n",
       "    <tr>\n",
       "      <th>6</th>\n",
       "      <td>London</td>\n",
       "      <td>29102.0</td>\n",
       "    </tr>\n",
       "    <tr>\n",
       "      <th>7</th>\n",
       "      <td>Boston</td>\n",
       "      <td>27857.0</td>\n",
       "    </tr>\n",
       "    <tr>\n",
       "      <th>8</th>\n",
       "      <td>Menlo Park</td>\n",
       "      <td>26202.0</td>\n",
       "    </tr>\n",
       "    <tr>\n",
       "      <th>9</th>\n",
       "      <td>Stockholm</td>\n",
       "      <td>25030.0</td>\n",
       "    </tr>\n",
       "  </tbody>\n",
       "</table>\n",
       "</div>"
      ],
      "text/plain": [
       "              Location_HQ  Total_Laid_Off\n",
       "0  San Francisco Bay Area        153693.0\n",
       "1                 Seattle        102406.0\n",
       "2           San Francisco         75507.0\n",
       "3           New York City         54532.0\n",
       "4               Bengaluru         40380.0\n",
       "5                  Austin         35054.0\n",
       "6                  London         29102.0\n",
       "7                  Boston         27857.0\n",
       "8              Menlo Park         26202.0\n",
       "9               Stockholm         25030.0"
      ]
     },
     "execution_count": 6,
     "metadata": {},
     "output_type": "execute_result"
    }
   ],
   "source": [
    "layoffs_locations = pd.read_sql(\n",
    "    '''\n",
    "    SELECT\n",
    "        \"Location_HQ\",\n",
    "        SUM(\"Laid_Off\") AS \"Total_Laid_Off\"\n",
    "    FROM public.layoffs_companies\n",
    "    GROUP BY \"Location_HQ\"\n",
    "    ORDER BY \"Total_Laid_Off\" DESC\n",
    "''', engine\n",
    ")\n",
    "\n",
    "layoffs_locations = layoffs_locations.sort_values(by = \"Total_Laid_Off\", ascending = False)\n",
    "\n",
    "top_10 = layoffs_locations.head(10)\n",
    "\n",
    "top_10"
   ]
  },
  {
   "cell_type": "code",
   "execution_count": 7,
   "metadata": {},
   "outputs": [
    {
     "data": {
      "text/plain": [
       "pandas.core.frame.DataFrame"
      ]
     },
     "execution_count": 7,
     "metadata": {},
     "output_type": "execute_result"
    }
   ],
   "source": [
    "type(top_10)"
   ]
  },
  {
   "cell_type": "code",
   "execution_count": 8,
   "metadata": {},
   "outputs": [
    {
     "data": {
      "image/png": "[encoded data removed]",
      "text/plain": [
       "<Figure size 1000x600 with 1 Axes>"
      ]
     },
     "metadata": {},
     "output_type": "display_data"
    }
   ],
   "source": [
    "import matplotlib.pyplot as plt\n",
    "\n",
    "plt.figure(figsize=(10, 6))\n",
    "plt.bar(top_10['Location_HQ'], top_10['Total_Laid_Off'], color='skyblue')\n",
    "plt.xlabel('Location HQ')\n",
    "plt.ylabel('Total Laid Off')\n",
    "plt.title('Top 10 Locations with the Most Layoffs')\n",
    "plt.xticks(rotation=45)\n",
    "plt.show()"
   ]
  }
 ],
 "metadata": {
  "kernelspec": {
   "display_name": "layoffs",
   "language": "python",
   "name": "python3"
  },
  "language_info": {
   "codemirror_mode": {
    "name": "ipython",
    "version": 3
   },
   "file_extension": ".py",
   "mimetype": "text/x-python",
   "name": "python",
   "nbconvert_exporter": "python",
   "pygments_lexer": "ipython3",
   "version": "3.11.4"
  }
 },
 "nbformat": 4,
 "nbformat_minor": 2
}
